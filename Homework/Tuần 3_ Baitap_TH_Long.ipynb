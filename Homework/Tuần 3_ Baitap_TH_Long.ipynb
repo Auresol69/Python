{
 "cells": [
  {
   "cell_type": "markdown",
   "id": "dd72a986",
   "metadata": {},
   "source": [
    "\n",
    "\n",
    "## Bài 1:  List -Tuple -Set - Dict\n",
    "1) Tạo list `L1` gồm các số tự nhiên từ 1 đến 10          \n",
    "2) Tạo list `L2` gồm các 10 số tự nhiên chẵn đầu tiên           \n",
    "3) Tạo list  `L3` gồm 100 số tự nhiên lấy ngẫu nhiên trong đoạn [0,100]\n",
    "4) Tạo list `L4` gồm 4 phần tử, mỗi phần tử là 1 tuple ghi lại toạ 1 điểm trong KG Oxyz:  \n",
    " (1,2,2), (6,-3, 6), (0, 3,4), (-6, 8,0)\n",
    "5) Tạo set `S1` từ list `L3`\n",
    "\n",
    "\n"
   ]
  },
  {
   "cell_type": "code",
   "execution_count": 47,
   "id": "aa466814",
   "metadata": {},
   "outputs": [],
   "source": [
    "# 1) Tạo list L1 gồm các số tự nhiên từ 1 đến 10\n",
    "L1 = [i for i in range(1,11)]"
   ]
  },
  {
   "cell_type": "code",
   "execution_count": 48,
   "id": "a61886d9",
   "metadata": {},
   "outputs": [],
   "source": [
    "# 2) Tạo list L2 gồm các 10 số tự nhiên chẵn đầu tiên  \n",
    "L2 = [i for i in range(2,21,2)]"
   ]
  },
  {
   "cell_type": "code",
   "execution_count": 49,
   "id": "42c402eb",
   "metadata": {},
   "outputs": [],
   "source": [
    "# 3) Tạo list  L3 gồm 100 số tự nhiên lấy ngẫu nhiên trong đoạn [0,100]\n",
    "import numpy as np\n",
    "L3 = np.random.default_rng().integers(0,101,size=(100))"
   ]
  },
  {
   "cell_type": "code",
   "execution_count": 50,
   "id": "25917d6f",
   "metadata": {},
   "outputs": [],
   "source": [
    "# 4) Tạo list L4 gồm 4 phần tử, mỗi phần tử là 1 tuple ghi lại toạ 1 điểm trong KG Oxyz:  (1,2,2), (6,-3, 6), (0, 3,4), (-6, 8,0)\n",
    "L4 = [(1,2,2), (6,-3, 6), (0, 3,4), (-6, 8,0)]"
   ]
  },
  {
   "cell_type": "code",
   "execution_count": 51,
   "id": "b8c6fead",
   "metadata": {},
   "outputs": [],
   "source": [
    "# 5) Tạo set S1  từ list L3\n",
    "S1 = {i for i in L3}\n",
    "\n"
   ]
  },
  {
   "cell_type": "markdown",
   "id": "d1073621",
   "metadata": {},
   "source": [
    "## Bài 2. Vòng lặp\n",
    "1. Tính tổng, tích các phần trử trong `L1`\n",
    "2. Tạo list `KC` ghi lại khoảng cách từ các điểm đến gốc toạ độ trong `L4`\n",
    "3. Tạo list `L5`  gồm 10 số là bình phương của 10 số tự nhiên: 1, 2,...,10\n",
    "4. Chuyển chuỗi `SP = \"thịt, cá,   sữa, dầu ăn,  dầu ăn, thịt,   thịt, sữa\"` thành một list `L6` chứa các sản phẩm có trong chuỗi\n",
    "5. Tạo set `S1` chứa các phần tử của `L6`\n",
    "6. Tạo từ điển `D1` với key là các ký tự: `a, b, c, d, e ,f` và value tương ứng là `1, 2, 3, 4, 5, 6` \n",
    "7. Dùng vòng lặp while tính tổng bình phương các số tự nhiên lẻ < 100"
   ]
  },
  {
   "cell_type": "code",
   "execution_count": 52,
   "id": "92d84801",
   "metadata": {},
   "outputs": [],
   "source": [
    "# 1. Tính tổng, tích các phần trử trong L1\n",
    "import math\n",
    "tong = sum(L1)\n",
    "tich = math.prod(L1)"
   ]
  },
  {
   "cell_type": "code",
   "execution_count": 68,
   "id": "37fe5182",
   "metadata": {},
   "outputs": [],
   "source": [
    "# 2. Tạo list KC ghi lại khoảng cách từ các điểm đến gốc toạ độ trong L4\n",
    "import math\n",
    "KC = [math.dist(i,(0,0,0)) for i in L4]"
   ]
  },
  {
   "cell_type": "code",
   "execution_count": 54,
   "id": "dda27d2e",
   "metadata": {},
   "outputs": [],
   "source": [
    "# 3. Tạo list L5  gồm 10 số là bình phương của 10 số tự nhiên: 1, 2,...,10\n",
    "L5 = [i**2 for i in range(1,11)]"
   ]
  },
  {
   "cell_type": "code",
   "execution_count": 55,
   "id": "527b5dbf",
   "metadata": {},
   "outputs": [
    {
     "name": "stdout",
     "output_type": "stream",
     "text": [
      "['thịt', 'cá', 'sữa', 'dầu ăn', 'dầu ăn', 'thịt', 'thịt', 'sữa']\n"
     ]
    }
   ],
   "source": [
    "# 4. Chuyển chuỗi SP = \"thịt, cá,   sữa, dầu ăn,  dầu ăn, thịt,   thịt, sữa\"  thành một list L6 chứa các sản phẩm có trong chuỗi\n",
    "SP = \"thịt, cá,   sữa, dầu ăn,  dầu ăn, thịt,   thịt, sữa\"\n",
    "L6 = [i.strip() for i in SP.split(\",\")];\n",
    "print(L6);"
   ]
  },
  {
   "cell_type": "code",
   "execution_count": 56,
   "id": "e8b7ba98",
   "metadata": {},
   "outputs": [
    {
     "name": "stdout",
     "output_type": "stream",
     "text": [
      "{'sữa', 'dầu ăn', 'cá', 'thịt'}\n"
     ]
    }
   ],
   "source": [
    "# 5. Tạo set S1 chứa các phần tử của L6\n",
    "S1 = {i for i in L6}\n",
    "print(S1)"
   ]
  },
  {
   "cell_type": "code",
   "execution_count": 57,
   "id": "73f70687",
   "metadata": {},
   "outputs": [
    {
     "name": "stdout",
     "output_type": "stream",
     "text": [
      "{'a': 1, 'b': 2, 'c': 3, 'd': 4, 'e': 5, 'f': 6, 'g': 7, 'h': 8}\n"
     ]
    }
   ],
   "source": [
    "# 6. Tạo từ điển D1 với key là các ký tự: a, b, c, d, e ,f, g, h  và value tương ứng là 1, 2, 3, 4,5,6, 7, 8d\n",
    "keys = ['a', 'b', 'c', 'd', 'e', 'f', 'g', 'h']\n",
    "values = [1, 2, 3, 4, 5, 6, 7, 8]\n",
    "D1 = dict(zip(keys,values))\n",
    "print(D1)"
   ]
  },
  {
   "cell_type": "code",
   "execution_count": 58,
   "id": "8a04c853",
   "metadata": {},
   "outputs": [
    {
     "name": "stdout",
     "output_type": "stream",
     "text": [
      "166650\n"
     ]
    }
   ],
   "source": [
    "# 7. Dùng vòng lặp while tính tổng bình phương các số tự nhiên lẻ < 100\n",
    "i=0\n",
    "tbp=0\n",
    "while i<100:\n",
    "    if i % 2 != 0:\n",
    "        tbp+= i**2\n",
    "    i+=1\n",
    "print(tbp)"
   ]
  },
  {
   "cell_type": "markdown",
   "id": "d15faf7f",
   "metadata": {},
   "source": [
    "## Bài 3. Câu lệnh điều kiện\n",
    "1. Viết code để tìm trong  `L1` nếu là số chẵn thay bằng \"chẵn\", nếu là số lẻ thay bằng \"lẻ\"\n",
    "2. Viết code để đếm số phần tử lớn hơn 50 trong `L3`\n",
    "3. Viết code để đếm số lần xuất hiện giá trị \"thịt\" trong `L6`\n",
    "4. Viết code để tạo từ điển `D2` có key là sản phẩm, value là số lần xuất hiện sản phẩm trong danh mục: \n",
    " `SP = \"thịt, cá,   sữa, dầu ăn,  dầu ăn, thịt,   thịt, sữa\"`"
   ]
  },
  {
   "cell_type": "code",
   "execution_count": 59,
   "id": "3aaf7601",
   "metadata": {},
   "outputs": [
    {
     "name": "stdout",
     "output_type": "stream",
     "text": [
      "['lẻ', 'chẵn', 'lẻ', 'chẵn', 'lẻ', 'chẵn', 'lẻ', 'chẵn', 'lẻ', 'chẵn']\n"
     ]
    }
   ],
   "source": [
    "# 1. Viết code để tìm trong  L1 nếu là số chẵn thay bằng \"chẵn\", nếu là số lẻ thay bằng \"lẻ\"\n",
    "L1 = [\"chẵn\" if i % 2 == 0 else \"lẻ\" for i in L1]\n",
    "print(L1)"
   ]
  },
  {
   "cell_type": "code",
   "execution_count": 70,
   "id": "22d47230",
   "metadata": {},
   "outputs": [
    {
     "name": "stdout",
     "output_type": "stream",
     "text": [
      "51\n"
     ]
    }
   ],
   "source": [
    "# 2. Viết code để đếm số phần tử lớn hơn 50 trong L3\n",
    "count = 0\n",
    "for i in L3:\n",
    "    if i > 50:\n",
    "        count+=1\n",
    "print(count)"
   ]
  },
  {
   "cell_type": "code",
   "execution_count": 72,
   "id": "0a6f868d",
   "metadata": {},
   "outputs": [
    {
     "name": "stdout",
     "output_type": "stream",
     "text": [
      "3\n"
     ]
    }
   ],
   "source": [
    "# 3. Viết code để đếm số lần xuất hiện giá trị \"thịt\" trong L6\n",
    "count_Thit = 0\n",
    "for i in L6:\n",
    "    if i == 'thịt':\n",
    "        count_Thit+=1\n",
    "print(count_Thit)"
   ]
  },
  {
   "cell_type": "code",
   "execution_count": 74,
   "id": "97a2f776",
   "metadata": {},
   "outputs": [
    {
     "name": "stdout",
     "output_type": "stream",
     "text": [
      "{'thịt': 3, 'cá': 1, 'sữa': 2, 'dầu ăn': 2}\n"
     ]
    }
   ],
   "source": [
    "# 4. Viết code để tạo từ điển D2 có key là sản phẩm, value là số lần xuất hiện sản phẩm trong danh mục: \n",
    "# SP = \"thịt, cá,   sữa, dầu ăn,  dầu ăn, thịt,   thịt, sữa\"\n",
    "from collections import Counter \n",
    "String_DicD2 = \"thịt, cá,   sữa, dầu ăn,  dầu ăn, thịt,   thịt, sữa\"\n",
    "List_DicD2 = [i.strip() for i in String_DicD2.split(\",\")]\n",
    "SP_DicD2 = dict(Counter(List_DicD2))\n",
    "print(SP_DicD2)"
   ]
  },
  {
   "cell_type": "markdown",
   "id": "cae9b6a2",
   "metadata": {},
   "source": [
    "## Bài 4. Hàm \n",
    "\n",
    " 1.  Viết hàm  có tên `xep_loai` để phân loại kết quả học của sinh viên dựa vào điểm số\n",
    "\n",
    "   - Từ 8 trở lên: Giỏi\n",
    "   - Từ 6.5 đến dưới 8: Khá\n",
    "   - Từ 5 đến dưới 6.5 : Trung bình\n",
    "   - Thấp hơn 5: Yếu\n",
    "\n",
    " 2. Viết code để SV nhập thông tin họ tên, mã sinh viên, điểm đạt được. in ra thông tin nhập vào và cho biết SV đố được xếp loại gì dựa vào điểm (dùng hàm đã viết ở trên)\n",
    "\n",
    " 3. Có danh sách SV `Tên = ['Hạnh', 'Phúc','Bình','An'], Điểm = [7, 9.2, 6.5, 4.3]`. Hãy viết code để in ra thông báo tên, điểm, xếp loại của mỗi SV. \n",
    "\n",
    " 4. Viết hàm với tham số đầu vào là 1 list chứa tên sinh viên trong lớp để gọi ngẫu nhiên một SV lên bảng\n",
    "\n"
   ]
  },
  {
   "cell_type": "code",
   "execution_count": 76,
   "id": "94a0a130",
   "metadata": {},
   "outputs": [],
   "source": [
    "# 1. Viết hàm  có tên xep_loai để phân loại kết quả học của sinh viên dựa vào điểm số\n",
    "#     Từ 8 trở lên: Giỏi\n",
    "#     Từ 6.5 đến dưới 8: Khá\n",
    "#     Từ 5 đến dưới 6.5 : Trung bình\n",
    "#      Thấp hơn 5: Yếu\n",
    "def xep_loai(ketqua=0):\n",
    "    if ketqua >=8:\n",
    "        return \"Giỏi\"\n",
    "    elif ketqua >=6.5 and ketqua <8:\n",
    "        return \"Khá\"\n",
    "    elif ketqua >=5 and ketqua <6.5:\n",
    "        return \"Trung bình\"\n",
    "    else:\n",
    "        return \"Yếu\""
   ]
  },
  {
   "cell_type": "code",
   "execution_count": 78,
   "id": "bd485ed3",
   "metadata": {},
   "outputs": [
    {
     "name": "stdout",
     "output_type": "stream",
     "text": [
      "Linh 12345 HL: Giỏi\n"
     ]
    }
   ],
   "source": [
    "#  2. Viết code để SV nhập thông tin họ tên, mã sinh viên, điểm đạt được.\n",
    "# in ra thông tin nhập vào và cho biết SV đố được xếp loại gì dựa vào điểm (dùng hàm đã viết ở trên)\n",
    "ten = input(\"Họ tên: \")\n",
    "msv = input(\"Mã sinh viên: \")\n",
    "diem = float(input(\"Điểm số: \"))\n",
    "print(f\"{ten} {msv} HL: {xep_loai(diem)}\")"
   ]
  },
  {
   "cell_type": "code",
   "execution_count": 82,
   "id": "5b40d0fc",
   "metadata": {},
   "outputs": [
    {
     "name": "stdout",
     "output_type": "stream",
     "text": [
      "[('Hạnh', 7), ('Phúc', 9.2), ('Bình', 6.5), ('An', 4.3)]\n",
      "Hạnh 7 Khá\n",
      "Phúc 9.2 Giỏi\n",
      "Bình 6.5 Khá\n",
      "An 4.3 Yếu\n"
     ]
    }
   ],
   "source": [
    "# 3. Có danh sách SV `Tên = ['Hạnh', 'Phúc','Bình','An'], Điểm = [7, 9.2, 6.5, 4.3]`.\n",
    "# Hãy viết code để in ra thông báo tên, điểm, xếp loại của mỗi SV.\n",
    "Tên = ['Hạnh', 'Phúc','Bình','An']\n",
    "Điểm = [7, 9.2, 6.5, 4.3]\n",
    "print(list(zip(Tên, Điểm)))\n",
    "for ten,diem in zip(Tên, Điểm):\n",
    "    print(f\"{ten} {diem} {xep_loai(diem)}\")"
   ]
  },
  {
   "cell_type": "code",
   "execution_count": 95,
   "id": "7334cf54",
   "metadata": {},
   "outputs": [
    {
     "name": "stdout",
     "output_type": "stream",
     "text": [
      "Phúc\n"
     ]
    }
   ],
   "source": [
    "# 4. Viết hàm với tham số đầu vào là 1 list chứa tên sinh viên trong lớp để gọi ngẫu nhiên một SV lên bảng\n",
    "import numpy as np\n",
    "def goi_len_bang(List=None):\n",
    "    if List is None:\n",
    "        List = []\n",
    "    if List:\n",
    "        return np.random.default_rng().choice(List)\n",
    "    else:\n",
    "        return \"Danh sách rỗng.\"\n",
    "    \n",
    "Tên = ['Hạnh', 'Phúc','Bình','An']\n",
    "print(goi_len_bang(Tên))"
   ]
  }
 ],
 "metadata": {
  "kernelspec": {
   "display_name": "Python 3",
   "language": "python",
   "name": "python3"
  },
  "language_info": {
   "codemirror_mode": {
    "name": "ipython",
    "version": 3
   },
   "file_extension": ".py",
   "mimetype": "text/x-python",
   "name": "python",
   "nbconvert_exporter": "python",
   "pygments_lexer": "ipython3",
   "version": "3.11.4"
  }
 },
 "nbformat": 4,
 "nbformat_minor": 5
}
