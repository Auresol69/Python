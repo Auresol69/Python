{
  "cells": [
    {
      "cell_type": "markdown",
      "metadata": {
        "id": "PZhDx6PffMnO"
      },
      "source": [
        "# Phần 1: Thư viện numpy"
      ]
    },
    {
      "cell_type": "markdown",
      "metadata": {
        "id": "yPgu6Ap7fUrt"
      },
      "source": [
        "## Bài 1.1"
      ]
    },
    {
      "cell_type": "markdown",
      "metadata": {
        "id": "xgnupz0bWSnL"
      },
      "source": [
        "1. Tạo một ma trận 3x3 có tên A với các phần tử sau:\n",
        "\n",
        "2. Chuyển đổi ma trận A thành kiểu số nguyên và lưu vào ma trận B. In ra ma trận B và kiểu dữ liệu của ma trận B.\n",
        "\n",
        "3. Tạo một vector u với giá trị $[0.5, 1.5, 2.5]$ và kiểu dữ liệu là `float64`. Cộng ma trận B với vector u và lưu kết quả vào ma trận C. In ra ma trận C và kiểu dữ liệu của ma trận C.\n",
        "\n",
        "4. Tạo một vector v với giá trị $[10, 20, 30]$ và kiểu dữ liệu là `int32`. Cộng ma trận B với vector v và lưu kết quả vào ma trận D. In ra ma trận D và kiểu dữ liệu của ma trận D."
      ]
    },
    {
      "cell_type": "code",
      "execution_count": 40,
      "metadata": {
        "id": "q7S9HDo8YFPl"
      },
      "outputs": [
        {
          "data": {
            "text/plain": [
              "(array([[15, 28, 33],\n",
              "        [14, 20, 39],\n",
              "        [16, 27, 31]]),\n",
              " dtype('int64'))"
            ]
          },
          "execution_count": 40,
          "metadata": {},
          "output_type": "execute_result"
        }
      ],
      "source": [
        "# Nhập thư viện numpy với bí danh np\n",
        "import numpy as np\n",
        "# 1. Tạo một mảng numpy có tên A\n",
        "import numpy as np\n",
        "A = np.array([\n",
        "    [5.1, 8.7, 3.3],\n",
        "    [4.4, 0.9, 9.5],\n",
        "    [6.2, 7.5, 1.8]\n",
        "])\n",
        "A\n",
        "\n",
        "# 2. Ma trận B\n",
        "B = A.astype(int)\n",
        "B, B.dtype\n",
        "\n",
        "# 3. Ma trận C\n",
        "u = np.array([0.5, 1.5, 2.5], dtype='float64')\n",
        "C = B + u\n",
        "C, C.dtype\n",
        "\n",
        "# 4. Ma trận D\n",
        "v = np.array([10, 20, 30], dtype='int32')\n",
        "D = B + v\n",
        "D, D.dtype"
      ]
    },
    {
      "cell_type": "markdown",
      "metadata": {
        "id": "KIs7isI7o-LD"
      },
      "source": [
        "## Bài 1.2"
      ]
    },
    {
      "cell_type": "markdown",
      "metadata": {
        "id": "Jq9bybURYjNN"
      },
      "source": [
        "1. Tạo một ma trận 6x6 có tên M, chứa các số từ 0 đến 35.\n",
        "2. Trích xuất vùng trung tâm 4x4 của ma trận M và lưu vào ma trận P. Vùng này bao gồm các hàng từ 1 đến 4 và cột từ 1 đến 4.\n",
        "3. Chọn các hàng 0 và 3 của ma trận con P.\n",
        "4. Gán giá trị -99 cho các cột 1 và 2 của ma trận M.\n",
        "5. Trích xuất các giá trị trong các cột lẻ (1, 3, 5) của ma trận M đã bị thay đổi, và tìm các giá trị lớn hơn 20 trong các cột này."
      ]
    },
    {
      "cell_type": "code",
      "execution_count": 41,
      "metadata": {
        "id": "CiB9Ife1mwbP"
      },
      "outputs": [
        {
          "data": {
            "text/plain": [
              "array([21, 23, 27, 29, 33, 35])"
            ]
          },
          "execution_count": 41,
          "metadata": {},
          "output_type": "execute_result"
        }
      ],
      "source": [
        "import numpy as np\n",
        "# 1. Tạo ma trận M\n",
        "M = np.arange(36).reshape(6, 6)\n",
        "M\n",
        "\n",
        "# 2. Trích xuất vùng trung tâm 4x4\n",
        "P = M[1:5, 1:5]\n",
        "P\n",
        "\n",
        "# 3. Chọn các hàng 0 và 3 của P\n",
        "P[[0, 3], :]\n",
        "\n",
        "# 4. Gán giá trị cho các cột 1 và 2 của M\n",
        "M[:, [1, 2]] = -99\n",
        "M\n",
        "\n",
        "# 5. Trích xuất giá trị theo điều kiện kết hợp\n",
        "odd_cols = M[:, [1, 3, 5]]\n",
        "odd_cols[odd_cols > 20]"
      ]
    },
    {
      "cell_type": "markdown",
      "metadata": {
        "id": "RZ6QE56ppCf4"
      },
      "source": [
        "## Bài 1.3"
      ]
    },
    {
      "cell_type": "markdown",
      "metadata": {
        "id": "fjUE9AP-YwFN"
      },
      "source": [
        "1. Tạo một ma trận `data` kích thước 4x5 với các giá trị nguyên ngẫu nhiên trong khoảng từ 10 đến 100. In ra ma trận `data`.\n",
        "2. Tính ma trận chuyển vị của `data` và in ra kết quả.\n",
        "3. Tính giá trị lớn nhất và nhỏ nhất cho từng hàng trong ma trận `data`. In ra kết quả.\n",
        "4. Tìm chỉ số của cột chứa giá trị lớn nhất trong mỗi hàng của ma trận `data`. In ra kết quả."
      ]
    },
    {
      "cell_type": "code",
      "execution_count": 42,
      "metadata": {
        "id": "y83435UDpYgZ"
      },
      "outputs": [
        {
          "data": {
            "text/plain": [
              "array([0, 3, 3, 1])"
            ]
          },
          "execution_count": 42,
          "metadata": {},
          "output_type": "execute_result"
        }
      ],
      "source": [
        "import numpy as np\n",
        "# 1. Tạo ma trận data\n",
        "data = np.random.randint(10, 101, size=(4, 5))\n",
        "data\n",
        "\n",
        "# 2. Chuyển vị\n",
        "data.T\n",
        "\n",
        "# 3. Tính max và min cho từng hàng\n",
        "np.max(data, axis=1), np.min(data, axis=1)\n",
        "\n",
        "# 4. Tìm chỉ số của giá trị lớn nhất trong mỗi hàng\n",
        "np.argmax(data, axis=1)"
      ]
    },
    {
      "cell_type": "markdown",
      "metadata": {
        "id": "elaMljHjqrh0"
      },
      "source": [
        "## Bài 1.4"
      ]
    },
    {
      "cell_type": "markdown",
      "metadata": {
        "id": "sXY-t7C8Y3P8"
      },
      "source": [
        "1. Tạo một ma trận chi phí có tên `costs` với các phần tử như sau:\n",
        "   * Dòng 1: Chi phí nguyên vật liệu, nhân công, vận hành cho sản phẩm A.\n",
        "   * Dòng 2: Chi phí nguyên vật liệu, nhân công, vận hành cho sản phẩm B.\n",
        "   * Dòng 3: Chi phí nguyên vật liệu, nhân công, vận hành cho sản phẩm C.\n",
        "2. Tạo một vector `production_volume` chứa số lượng sản phẩm A, B, C được sản xuất lần lượt là 1000, 500, 1500.\n",
        "3. Tính tổng chi phí cho từng loại chi phí (Nguyên vật liệu, Nhân công, Vận hành).\n",
        "4. Tính tổng chi phí cho từng sản phẩm (trên một đơn vị sản phẩm)."
      ]
    },
    {
      "cell_type": "code",
      "execution_count": 43,
      "metadata": {
        "id": "RuG4ZkToqtPu"
      },
      "outputs": [
        {
          "name": "stdout",
          "output_type": "stream",
          "text": [
            "Ma trận chi phí (Sản phẩm x Loại chi phí)\n",
            "[[10.   5.   2. ]\n",
            " [12.   7.   3. ]\n",
            " [ 9.   4.   2.5]]\n"
          ]
        },
        {
          "data": {
            "text/plain": [
              "array([17. , 22. , 15.5])"
            ]
          },
          "execution_count": 43,
          "metadata": {},
          "output_type": "execute_result"
        }
      ],
      "source": [
        "import numpy as np\n",
        "# 1. Tạo ma trận chi phí\n",
        "costs = np.array([\n",
        "    [10, 5, 2],\n",
        "    [12, 7, 3],\n",
        "    [9, 4, 2.5]\n",
        "])\n",
        "print(\"Ma trận chi phí (Sản phẩm x Loại chi phí)\")\n",
        "print(costs)\n",
        "\n",
        "# 2. Tạo vector số lượng\n",
        "production_volume = np.array([1000, 500, 1500])\n",
        "\n",
        "# 3. Tính tổng chi phí cho từng loại\n",
        "costs.sum(axis=0)\n",
        "\n",
        "# 4. Tính tổng chi phí cho từng sản phẩm (trên 1 đơn vị)\n",
        "costs.sum(axis=1)"
      ]
    },
    {
      "cell_type": "markdown",
      "metadata": {
        "id": "LL2Qku44r7QP"
      },
      "source": [
        "## Bài 1.5"
      ]
    },
    {
      "cell_type": "markdown",
      "metadata": {
        "id": "6AA6KBNoZDIU"
      },
      "source": [
        "1. Tạo một mảng `x` từ -3 đến 3 với bước nhảy là 0.5. In ra mảng `x`.\n",
        "2. Tính giá trị hàm Sigmoid cho từng phần tử trong mảng `x` và in kết quả ra mảng mới. In ra mảng kết quả sau khi làm tròn đến 4 chữ số thập phân.\n",
        "Hàm sigmoid là $ f(x) =\\frac{1}{1+e^{-x}}$ "
      ]
    },
    {
      "cell_type": "code",
      "execution_count": 44,
      "metadata": {
        "id": "t1aAYMF3spnt"
      },
      "outputs": [
        {
          "data": {
            "text/plain": [
              "array([0.0474, 0.0759, 0.1192, 0.1824, 0.2689, 0.3775, 0.5   , 0.6225,\n",
              "       0.7311, 0.8176, 0.8808, 0.9241, 0.9526])"
            ]
          },
          "execution_count": 44,
          "metadata": {},
          "output_type": "execute_result"
        }
      ],
      "source": [
        "import numpy as np\n",
        "# 1. Tạo mảng x\n",
        "x = np.arange(-3, 3.5, 0.5)\n",
        "x\n",
        "\n",
        "# 2. Tính hàm Sigmoid\n",
        "sigmoid = 1 / (1 + np.exp(-x))\n",
        "np.round(sigmoid, 4)"
      ]
    },
    {
      "cell_type": "markdown",
      "metadata": {
        "id": "g97c5yiiteiy"
      },
      "source": [
        "## Bài 1.6"
      ]
    },
    {
      "cell_type": "markdown",
      "metadata": {
        "id": "8qh8crSPZMDm"
      },
      "source": [
        "1. Tạo một ma trận 3x3 có tên A và một vector b\n",
        "\n",
        "2. Tính định thức của ma trận A và kiểm tra xem ma trận A có khả nghịch hay không.\n",
        "\n",
        "3. Tính ma trận nghịch đảo của A (A^{-1}).\n",
        "\n",
        "4. Tìm nghiệm của hệ phương trình $A \\cdot x = b$ bằng công thức $x = A^{-1} \\cdot b$.\n",
        "\n",
        "5. Kiểm tra lại nghiệm x bằng cách nhân lại với ma trận A và so sánh kết quả với vector b ban đầu.\n"
      ]
    },
    {
      "cell_type": "code",
      "execution_count": 45,
      "metadata": {
        "id": "0YVYFjlRthCz"
      },
      "outputs": [
        {
          "name": "stdout",
          "output_type": "stream",
          "text": [
            "Ma trận A: \n",
            "[[1 2 3]\n",
            " [4 5 6]\n",
            " [7 8 9]]\n",
            "Vector b: [10 20 30]\n"
          ]
        }
      ],
      "source": [
        "import numpy as np\n",
        "\n",
        "# 1. Tạo ma trận 3x3 có tên A\n",
        "A = np.array([\n",
        "    [1, 2, 3],\n",
        "    [4, 5, 6],\n",
        "    [7, 8, 9]\n",
        "])\n",
        "print(f\"Ma trận A: \\n{A}\")\n",
        "\n",
        "b = np.array([10, 20, 30])\n",
        "print(f\"Vector b: {b}\")\n",
        "\n",
        "# 2. Tính định thức của A\n",
        "det_A = np.linalg.det(A)\n",
        "det_A\n",
        "\n",
        "# 3. Tính ma trận nghịch đảo A^{-1}\n",
        "try:\n",
        "    inv_A = np.linalg.inv(A)\n",
        "except np.linalg.LinAlgError:\n",
        "    inv_A = None\n",
        "inv_A\n",
        "\n",
        "# 4. Tìm nghiệm x bằng công thức x = A^{-1}b\n",
        "if inv_A is not None:\n",
        "    x_sol = inv_A @ b\n",
        "else:\n",
        "    x_sol = None\n",
        "x_sol\n",
        "\n",
        "# Sử dụng toán tử @ để nhân ma trận\n",
        "\n",
        "# 5. Kiểm tra lại kết quả\n",
        "if x_sol is not None:\n",
        "    np.allclose(A @ x_sol, b)\n",
        "else:\n",
        "    None"
      ]
    },
    {
      "cell_type": "markdown",
      "metadata": {
        "id": "8zK8R83UwPko"
      },
      "source": [
        "# Phần 2: Thư viện Pandas"
      ]
    },
    {
      "cell_type": "markdown",
      "metadata": {
        "id": "H2HHP0qdw4Xw"
      },
      "source": [
        "## Bài 2.1"
      ]
    },
    {
      "cell_type": "markdown",
      "metadata": {
        "id": "zcJEqWnSZsOX"
      },
      "source": [
        "1. Tạo một Series từ Dictionary với các thành phố và dân số của chúng như sau:\n",
        "   * \"Hanoi\": 8.5 triệu\n",
        "   * \"HCMC\": 9.3 triệu\n",
        "   * \"Danang\": 1.2 triệu\n",
        "   * \"Haiphong\": 2.1 triệu\n",
        "\n",
        "2. Trích xuất dân số của Hà Nội và Đà Nẵng từ Series và in ra.\n",
        "3. Thực hiện phép toán vector hóa để chuyển đổi dân số các thành phố từ triệu người sang người (nhân với 1 triệu), sau đó in kết quả ra dưới dạng số nguyên."
      ]
    },
    {
      "cell_type": "code",
      "execution_count": 46,
      "metadata": {
        "id": "Wb04qEBjxvlJ"
      },
      "outputs": [
        {
          "name": "stdout",
          "output_type": "stream",
          "text": [
            "Dân số các thành phố (triệu người)\n",
            "Hanoi       8.5\n",
            "HCMC        9.3\n",
            "Danang      1.2\n",
            "Haiphong    2.1\n",
            "dtype: float64\n"
          ]
        },
        {
          "data": {
            "text/plain": [
              "Hanoi       8500000\n",
              "HCMC        9300000\n",
              "Danang      1200000\n",
              "Haiphong    2100000\n",
              "dtype: int64"
            ]
          },
          "execution_count": 46,
          "metadata": {},
          "output_type": "execute_result"
        }
      ],
      "source": [
        "import pandas as pd\n",
        "# 1. Tạo Series từ Dictionary\n",
        "import pandas as pd\n",
        "population_dict = {\"Hanoi\": 8.5, \"HCMC\": 9.3, \"Danang\": 1.2, \"Haiphong\": 2.1}\n",
        "city_pop = pd.Series(population_dict)\n",
        "print(\"Dân số các thành phố (triệu người)\")\n",
        "print(city_pop)\n",
        "\n",
        "# 2. Trích xuất dữ liệu\n",
        "city_pop[[\"Hanoi\", \"Danang\"]]\n",
        "\n",
        "# 3. Thực hiện phép toán vector hóa\n",
        "(city_pop * 1_000_000).astype(int)"
      ]
    },
    {
      "cell_type": "markdown",
      "metadata": {
        "id": "JrQms2etw7xL"
      },
      "source": [
        "## Bài 2.2"
      ]
    },
    {
      "cell_type": "markdown",
      "metadata": {
        "id": "JBi_4BbCZzrh"
      },
      "source": [
        "1. Tạo một DataFrame có tên `sales_df` với các cột sau:\n",
        "\n",
        "   * `nhan_vien`: Danh sách tên nhân viên (\"An\", \"Binh\", \"Chi\", \"Dung\").\n",
        "   * `khu_vuc`: Danh sách khu vực làm việc của các nhân viên (\"Bắc\", \"Nam\", \"Trung\", \"Bắc\").\n",
        "   * `doanh_so`: Danh sách doanh số bán hàng của các nhân viên (120, 250, 180, 90).\n",
        "2. Thêm cột \"thuong\" vào DataFrame. Cột \"thuong\" có giá trị True nếu doanh số lớn hơn 100, ngược lại là False.\n",
        "3. Thêm cột \"tien\\_thuong\" vào DataFrame. Cột \"tien\\_thuong\" tính toán tiền thưởng cho nhân viên. Nếu cột \"thuong\" là True, tiền thưởng sẽ bằng 10% doanh số bán hàng, nếu không sẽ là 0.\n",
        "4. Xóa cột \"khu\\_vuc\" khỏi DataFrame."
      ]
    },
    {
      "cell_type": "code",
      "execution_count": 47,
      "metadata": {
        "id": "J49kK382ymC6"
      },
      "outputs": [
        {
          "name": "stdout",
          "output_type": "stream",
          "text": [
            "DataFrame Bán hàng ban đầu\n",
            "  nhan_vien khu_vuc  doanh_so\n",
            "0        An     Bắc       120\n",
            "1      Binh     Nam       250\n",
            "2       Chi   Trung       180\n",
            "3      Dung     Bắc        90\n"
          ]
        },
        {
          "data": {
            "text/html": [
              "<div>\n",
              "<style scoped>\n",
              "    .dataframe tbody tr th:only-of-type {\n",
              "        vertical-align: middle;\n",
              "    }\n",
              "\n",
              "    .dataframe tbody tr th {\n",
              "        vertical-align: top;\n",
              "    }\n",
              "\n",
              "    .dataframe thead th {\n",
              "        text-align: right;\n",
              "    }\n",
              "</style>\n",
              "<table border=\"1\" class=\"dataframe\">\n",
              "  <thead>\n",
              "    <tr style=\"text-align: right;\">\n",
              "      <th></th>\n",
              "      <th>nhan_vien</th>\n",
              "      <th>doanh_so</th>\n",
              "      <th>thuong</th>\n",
              "      <th>tien_thuong</th>\n",
              "    </tr>\n",
              "  </thead>\n",
              "  <tbody>\n",
              "    <tr>\n",
              "      <th>0</th>\n",
              "      <td>An</td>\n",
              "      <td>120</td>\n",
              "      <td>True</td>\n",
              "      <td>12.0</td>\n",
              "    </tr>\n",
              "    <tr>\n",
              "      <th>1</th>\n",
              "      <td>Binh</td>\n",
              "      <td>250</td>\n",
              "      <td>True</td>\n",
              "      <td>25.0</td>\n",
              "    </tr>\n",
              "    <tr>\n",
              "      <th>2</th>\n",
              "      <td>Chi</td>\n",
              "      <td>180</td>\n",
              "      <td>True</td>\n",
              "      <td>18.0</td>\n",
              "    </tr>\n",
              "    <tr>\n",
              "      <th>3</th>\n",
              "      <td>Dung</td>\n",
              "      <td>90</td>\n",
              "      <td>False</td>\n",
              "      <td>0.0</td>\n",
              "    </tr>\n",
              "  </tbody>\n",
              "</table>\n",
              "</div>"
            ],
            "text/plain": [
              "  nhan_vien  doanh_so  thuong  tien_thuong\n",
              "0        An       120    True         12.0\n",
              "1      Binh       250    True         25.0\n",
              "2       Chi       180    True         18.0\n",
              "3      Dung        90   False          0.0"
            ]
          },
          "execution_count": 47,
          "metadata": {},
          "output_type": "execute_result"
        }
      ],
      "source": [
        "import pandas as pd\n",
        "\n",
        "# 1. Tạo DataFrame\n",
        "sales_data = {\n",
        "    \"nhan_vien\": [\"An\", \"Binh\", \"Chi\", \"Dung\"],\n",
        "    \"khu_vuc\": [\"Bắc\", \"Nam\", \"Trung\", \"Bắc\"],\n",
        "    \"doanh_so\": [120, 250, 180, 90]\n",
        "}\n",
        "sales_df = pd.DataFrame(sales_data)\n",
        "print(\"DataFrame Bán hàng ban đầu\")\n",
        "print(sales_df)\n",
        "\n",
        "# 2. Thêm cột \"thuong\" dựa trên điều kiện\n",
        "sales_df[\"thuong\"] = sales_df[\"doanh_so\"] > 100\n",
        "sales_df\n",
        "\n",
        "# 3. Thêm cột \"tien_thuong\"\n",
        "sales_df[\"tien_thuong\"] = np.where(sales_df[\"thuong\"], sales_df[\"doanh_so\"] * 0.1, 0)\n",
        "sales_df\n",
        "\n",
        "# 4. Xóa cột \"khu_vuc\"\n",
        "sales_df = sales_df.drop(\"khu_vuc\", axis=1)\n",
        "sales_df"
      ]
    },
    {
      "cell_type": "markdown",
      "metadata": {
        "id": "i46fJ659w8tO"
      },
      "source": [
        "## Bài 2.3"
      ]
    },
    {
      "cell_type": "markdown",
      "metadata": {
        "id": "A0npDJPRZ7-W"
      },
      "source": [
        "1. Tạo một DataFrame với dữ liệu từ 0 đến 15, có kích thước 4x4. Đặt tên cho các chỉ mục hàng là \"A\", \"B\", \"C\", \"D\" và tên các cột là \"W\", \"X\", \"Y\", \"Z\".\n",
        "2. Lựa chọn dữ liệu từ hàng \"A\" và \"C\", cột \"W\" và \"Y\" bằng cách sử dụng `.loc` (theo nhãn).\n",
        "3. Lựa chọn dữ liệu từ 2 hàng cuối (vị trí 2 và 3) và 2 cột đầu (vị trí 0 và 1) bằng cách sử dụng `.iloc` (theo vị trí số nguyên).\n",
        "4. Lấy giá trị tại hàng \"B\", cột \"Z\"."
      ]
    },
    {
      "cell_type": "code",
      "execution_count": 48,
      "metadata": {
        "id": "piIg1DX0zo8P"
      },
      "outputs": [
        {
          "name": "stdout",
          "output_type": "stream",
          "text": [
            "DataFrame gốc\n",
            "    W   X   Y   Z\n",
            "A   0   1   2   3\n",
            "B   4   5   6   7\n",
            "C   8   9  10  11\n",
            "D  12  13  14  15\n"
          ]
        },
        {
          "data": {
            "text/plain": [
              "np.int64(7)"
            ]
          },
          "execution_count": 48,
          "metadata": {},
          "output_type": "execute_result"
        }
      ],
      "source": [
        "import pandas as pd\n",
        "import numpy as np\n",
        "\n",
        "# 1. Tạo DataFrame\n",
        "df = pd.DataFrame(\n",
        "    np.arange(16).reshape(4, 4),\n",
        "    index=[\"A\", \"B\", \"C\", \"D\"],\n",
        "    columns=[\"W\", \"X\", \"Y\", \"Z\"]\n",
        ")\n",
        "print(\"DataFrame gốc\")\n",
        "print(df)\n",
        "\n",
        "# 2. Lựa chọn bằng .loc (theo nhãn)\n",
        "df.loc[[\"A\", \"C\"], [\"W\", \"Y\"]]\n",
        "\n",
        "# 3. Lựa chọn bằng .iloc (theo vị trí số nguyên)\n",
        "df.iloc[2:4, 0:2]\n",
        "\n",
        "# 4. Lấy một giá trị đơn lẻ\n",
        "df.loc[\"B\", \"Z\"]"
      ]
    },
    {
      "cell_type": "markdown",
      "metadata": {
        "id": "ZU1PNmXPw94c"
      },
      "source": [
        "## Bài 2.4"
      ]
    },
    {
      "cell_type": "markdown",
      "metadata": {
        "id": "BlFLu6UlaFnm"
      },
      "source": [
        "1. Tạo một Series có tên `product_stock` với các giá trị `[10, 50, 30]` và chỉ số `[0, 3, 5]`.\n",
        "2. Sử dụng phương thức `reindex` để tạo ra các chỉ số từ 0 đến 5. In ra Series sau khi reindex.\n",
        "3. Sử dụng phương thức `reindex` và điền giá trị bị thiếu bằng phương thức `ffill` (forward-fill). In ra Series sau khi reindex và điền giá trị."
      ]
    },
    {
      "cell_type": "code",
      "execution_count": 49,
      "metadata": {
        "id": "-gB2-ZTF1N0l"
      },
      "outputs": [
        {
          "name": "stdout",
          "output_type": "stream",
          "text": [
            "Series ban đầu\n",
            "0    10\n",
            "3    50\n",
            "5    30\n",
            "dtype: int64\n"
          ]
        },
        {
          "data": {
            "text/plain": [
              "0    10\n",
              "1    10\n",
              "2    10\n",
              "3    50\n",
              "4    50\n",
              "5    30\n",
              "dtype: int64"
            ]
          },
          "execution_count": 49,
          "metadata": {},
          "output_type": "execute_result"
        }
      ],
      "source": [
        "import pandas as pd\n",
        "import numpy as np\n",
        "\n",
        "product_stock = pd.Series([10, 50, 30], index=[0, 3, 5])\n",
        "print(\"Series ban đầu\")\n",
        "print(product_stock)\n",
        "\n",
        "# 1. Reindex để tạo ra các chỉ số bị thiếu\n",
        "product_stock_reindexed = product_stock.reindex(range(6))\n",
        "product_stock_reindexed\n",
        "\n",
        "# 2. Reindex và điền giá trị bằng 'ffill' (forward-fill)\n",
        "product_stock_ffill = product_stock.reindex(range(6), method='ffill')\n",
        "product_stock_ffill"
      ]
    },
    {
      "cell_type": "markdown",
      "metadata": {
        "id": "be2MKVo3w_GW"
      },
      "source": [
        "## Bài 2.5"
      ]
    },
    {
      "cell_type": "markdown",
      "metadata": {
        "id": "BxZTS1guaMxZ"
      },
      "source": [
        "1. Tạo một DataFrame với thông tin điểm số của các sinh viên (môn Toán, Lý, Hóa) với các sinh viên là Hùng, Lan, Minh, An. In ra bảng điểm ban đầu.\n",
        "2. Sắp xếp bảng điểm theo điểm môn Toán giảm dần. In ra bảng điểm sau khi sắp xếp.\n",
        "3. Tính tổng điểm của mỗi sinh viên và thêm cột tổng điểm vào bảng điểm. In ra bảng điểm với cột tổng điểm.\n",
        "4. Thực hiện thống kê mô tả cho các môn Toán, Lý và Hóa. In ra kết quả thống kê mô tả."
      ]
    },
    {
      "cell_type": "code",
      "execution_count": 50,
      "metadata": {
        "id": "DCPZQ3zq2Lbn"
      },
      "outputs": [
        {
          "name": "stdout",
          "output_type": "stream",
          "text": [
            "Bảng điểm ban đầu\n",
            "      Toan  Ly  Hoa\n",
            "Hùng     7   8    6\n",
            "Lan      5   9    8\n",
            "Minh     9   6    9\n",
            "An       8   7    5\n"
          ]
        },
        {
          "data": {
            "text/html": [
              "<div>\n",
              "<style scoped>\n",
              "    .dataframe tbody tr th:only-of-type {\n",
              "        vertical-align: middle;\n",
              "    }\n",
              "\n",
              "    .dataframe tbody tr th {\n",
              "        vertical-align: top;\n",
              "    }\n",
              "\n",
              "    .dataframe thead th {\n",
              "        text-align: right;\n",
              "    }\n",
              "</style>\n",
              "<table border=\"1\" class=\"dataframe\">\n",
              "  <thead>\n",
              "    <tr style=\"text-align: right;\">\n",
              "      <th></th>\n",
              "      <th>Toan</th>\n",
              "      <th>Ly</th>\n",
              "      <th>Hoa</th>\n",
              "    </tr>\n",
              "  </thead>\n",
              "  <tbody>\n",
              "    <tr>\n",
              "      <th>count</th>\n",
              "      <td>4.000000</td>\n",
              "      <td>4.000000</td>\n",
              "      <td>4.000000</td>\n",
              "    </tr>\n",
              "    <tr>\n",
              "      <th>mean</th>\n",
              "      <td>7.250000</td>\n",
              "      <td>7.500000</td>\n",
              "      <td>7.000000</td>\n",
              "    </tr>\n",
              "    <tr>\n",
              "      <th>std</th>\n",
              "      <td>1.707825</td>\n",
              "      <td>1.290994</td>\n",
              "      <td>1.825742</td>\n",
              "    </tr>\n",
              "    <tr>\n",
              "      <th>min</th>\n",
              "      <td>5.000000</td>\n",
              "      <td>6.000000</td>\n",
              "      <td>5.000000</td>\n",
              "    </tr>\n",
              "    <tr>\n",
              "      <th>25%</th>\n",
              "      <td>6.500000</td>\n",
              "      <td>6.750000</td>\n",
              "      <td>5.750000</td>\n",
              "    </tr>\n",
              "    <tr>\n",
              "      <th>50%</th>\n",
              "      <td>7.500000</td>\n",
              "      <td>7.500000</td>\n",
              "      <td>7.000000</td>\n",
              "    </tr>\n",
              "    <tr>\n",
              "      <th>75%</th>\n",
              "      <td>8.250000</td>\n",
              "      <td>8.250000</td>\n",
              "      <td>8.250000</td>\n",
              "    </tr>\n",
              "    <tr>\n",
              "      <th>max</th>\n",
              "      <td>9.000000</td>\n",
              "      <td>9.000000</td>\n",
              "      <td>9.000000</td>\n",
              "    </tr>\n",
              "  </tbody>\n",
              "</table>\n",
              "</div>"
            ],
            "text/plain": [
              "           Toan        Ly       Hoa\n",
              "count  4.000000  4.000000  4.000000\n",
              "mean   7.250000  7.500000  7.000000\n",
              "std    1.707825  1.290994  1.825742\n",
              "min    5.000000  6.000000  5.000000\n",
              "25%    6.500000  6.750000  5.750000\n",
              "50%    7.500000  7.500000  7.000000\n",
              "75%    8.250000  8.250000  8.250000\n",
              "max    9.000000  9.000000  9.000000"
            ]
          },
          "execution_count": 50,
          "metadata": {},
          "output_type": "execute_result"
        }
      ],
      "source": [
        "import pandas as pd\n",
        "import pandas as pd\n",
        "\n",
        "# 1. Tạo DataFrame\n",
        "scores_data = {\n",
        "    \"Toan\": [7, 5, 9, 8],\n",
        "    \"Ly\": [8, 9, 6, 7],\n",
        "    \"Hoa\": [6, 8, 9, 5]\n",
        "}\n",
        "student_scores = pd.DataFrame(scores_data, index=[\"Hùng\", \"Lan\", \"Minh\", \"An\"])\n",
        "print(\"Bảng điểm ban đầu\")\n",
        "print(student_scores)\n",
        "\n",
        "# 2. Sắp xếp theo điểm Toán giảm dần\n",
        "student_scores_sorted = student_scores.sort_values(by=\"Toan\", ascending=False)\n",
        "student_scores_sorted\n",
        "\n",
        "# 3. Tính tổng điểm mỗi sinh viên\n",
        "student_scores[\"Tong\"] = student_scores.sum(axis=1)\n",
        "student_scores\n",
        "\n",
        "# 4. Thống kê mô tả\n",
        "student_scores[[\"Toan\", \"Ly\", \"Hoa\"]].describe()"
      ]
    },
    {
      "cell_type": "markdown",
      "metadata": {
        "id": "Ejk9NJhMxAKw"
      },
      "source": [
        "## Bài 2.6"
      ]
    },
    {
      "cell_type": "markdown",
      "metadata": {
        "id": "RmWCwJ-4ab1X"
      },
      "source": [
        "1. Đọc file `transactions.csv` vào DataFrame\n",
        "2. Hiển thị thông tin cơ bản về DataFrame\n",
        "   * In ra 5 dòng đầu tiên của DataFrame.\n",
        "   * Hiển thị thông tin và kiểu dữ liệu của DataFrame.\n",
        "3. Điền giá trị thiếu trong cột \"SoLuong\"\n",
        "   * Điền giá trị thiếu bằng 1 cho cột \"SoLuong\".\n",
        "   * Sử dụng `inplace=True` để thay đổi trực tiếp trên DataFrame gốc.\n",
        "4. Tạo cột mới \"ThanhTien\"\n",
        "   * Tính giá trị của cột \"ThanhTien\" bằng cách nhân cột \"DonGia\" với cột \"SoLuong\".\n",
        "5. Lọc các giao dịch thuộc nhóm hàng \"Điện tử\"\n",
        "   * Lọc và in ra các giao dịch có nhóm hàng là \"Điện tử\".\n"
      ]
    },
    {
      "cell_type": "code",
      "execution_count": 51,
      "metadata": {
        "id": "3RPIscvPXdVX"
      },
      "outputs": [
        {
          "name": "stderr",
          "output_type": "stream",
          "text": [
            "Downloading...\n",
            "From: https://drive.google.com/uc?id=1Nty62dcwCcSbXWLK6vXUzUoU8s2Qy7j9\n",
            "To: e:\\Python\\Homework\\transactions.csv\n",
            "\n",
            "  0%|          | 0.00/318 [00:00<?, ?B/s]\n",
            "100%|██████████| 318/318 [00:00<?, ?B/s] \n"
          ]
        }
      ],
      "source": [
        "# Link file: https://drive.google.com/file/d/1Nty62dcwCcSbXWLK6vXUzUoU8s2Qy7j9/view?usp=sharing\n",
        "# pip install gdown\n",
        "!gdown 1Nty62dcwCcSbXWLK6vXUzUoU8s2Qy7j9"
      ]
    },
    {
      "cell_type": "code",
      "execution_count": 52,
      "metadata": {
        "id": "q3fNGoX33YJl"
      },
      "outputs": [
        {
          "name": "stdout",
          "output_type": "stream",
          "text": [
            "DataFrame sau khi đọc từ file CSV\n",
            "    MaGD    SanPham    NhomHang  DonGia  SoLuong      NgayGD\n",
            "0  TX001   Laptop A     Điện tử    25.0      2.0  2025-07-20\n",
            "1  TX002   Bàn phím    Phụ kiện     1.2      5.0  2025-07-20\n",
            "2  TX003  T-shirt B  Thời trang     0.5     10.0  2025-07-21\n",
            "3  TX004   Màn hình     Điện tử     8.0      NaN  2025-07-21\n",
            "4  TX005      Chuột    Phụ kiện     0.8      8.0  2025-07-22\n",
            "5  TX006  Quần Jean  Thời trang     1.5      5.0  2025-07-22\n",
            "<class 'pandas.core.frame.DataFrame'>\n",
            "RangeIndex: 6 entries, 0 to 5\n",
            "Data columns (total 6 columns):\n",
            " #   Column    Non-Null Count  Dtype  \n",
            "---  ------    --------------  -----  \n",
            " 0   MaGD      6 non-null      object \n",
            " 1   SanPham   6 non-null      object \n",
            " 2   NhomHang  6 non-null      object \n",
            " 3   DonGia    6 non-null      float64\n",
            " 4   SoLuong   5 non-null      float64\n",
            " 5   NgayGD    6 non-null      object \n",
            "dtypes: float64(2), object(4)\n",
            "memory usage: 420.0+ bytes\n"
          ]
        },
        {
          "name": "stderr",
          "output_type": "stream",
          "text": [
            "C:\\Users\\Thai Quoc Bao\\AppData\\Local\\Temp\\ipykernel_8220\\3130558330.py:16: FutureWarning: A value is trying to be set on a copy of a DataFrame or Series through chained assignment using an inplace method.\n",
            "The behavior will change in pandas 3.0. This inplace method will never work because the intermediate object on which we are setting values always behaves as a copy.\n",
            "\n",
            "For example, when doing 'df[col].method(value, inplace=True)', try using 'df.method({col: value}, inplace=True)' or df[col] = df[col].method(value) instead, to perform the operation inplace on the original object.\n",
            "\n",
            "\n",
            "  df[\"SoLuong\"].fillna(1, inplace=True)\n"
          ]
        },
        {
          "data": {
            "text/html": [
              "<div>\n",
              "<style scoped>\n",
              "    .dataframe tbody tr th:only-of-type {\n",
              "        vertical-align: middle;\n",
              "    }\n",
              "\n",
              "    .dataframe tbody tr th {\n",
              "        vertical-align: top;\n",
              "    }\n",
              "\n",
              "    .dataframe thead th {\n",
              "        text-align: right;\n",
              "    }\n",
              "</style>\n",
              "<table border=\"1\" class=\"dataframe\">\n",
              "  <thead>\n",
              "    <tr style=\"text-align: right;\">\n",
              "      <th></th>\n",
              "      <th>MaGD</th>\n",
              "      <th>SanPham</th>\n",
              "      <th>NhomHang</th>\n",
              "      <th>DonGia</th>\n",
              "      <th>SoLuong</th>\n",
              "      <th>NgayGD</th>\n",
              "      <th>ThanhTien</th>\n",
              "    </tr>\n",
              "  </thead>\n",
              "  <tbody>\n",
              "    <tr>\n",
              "      <th>0</th>\n",
              "      <td>TX001</td>\n",
              "      <td>Laptop A</td>\n",
              "      <td>Điện tử</td>\n",
              "      <td>25.0</td>\n",
              "      <td>2.0</td>\n",
              "      <td>2025-07-20</td>\n",
              "      <td>50.0</td>\n",
              "    </tr>\n",
              "    <tr>\n",
              "      <th>3</th>\n",
              "      <td>TX004</td>\n",
              "      <td>Màn hình</td>\n",
              "      <td>Điện tử</td>\n",
              "      <td>8.0</td>\n",
              "      <td>1.0</td>\n",
              "      <td>2025-07-21</td>\n",
              "      <td>8.0</td>\n",
              "    </tr>\n",
              "  </tbody>\n",
              "</table>\n",
              "</div>"
            ],
            "text/plain": [
              "    MaGD   SanPham NhomHang  DonGia  SoLuong      NgayGD  ThanhTien\n",
              "0  TX001  Laptop A  Điện tử    25.0      2.0  2025-07-20       50.0\n",
              "3  TX004  Màn hình  Điện tử     8.0      1.0  2025-07-21        8.0"
            ]
          },
          "execution_count": 52,
          "metadata": {},
          "output_type": "execute_result"
        }
      ],
      "source": [
        "import pandas as pd\n",
        "import numpy as np\n",
        "\n",
        "# 1. Đọc file CSV vào DataFrame\n",
        "# Giả sử file transactions.csv nằm cùng thư mục với code\n",
        "df = pd.read_csv(\"transactions.csv\")\n",
        "\n",
        "print(\"DataFrame sau khi đọc từ file CSV\")\n",
        "print(df)\n",
        "\n",
        "# 2. Hiển thị thông tin cơ bản\n",
        "df.head()\n",
        "df.info()\n",
        "\n",
        "# 3. Điền giá trị thiếu trong cột \"SoLuong\"\n",
        "df[\"SoLuong\"].fillna(1, inplace=True)\n",
        "df\n",
        "\n",
        "# 4. Tạo cột mới \"ThanhTien\"\n",
        "df[\"ThanhTien\"] = df[\"DonGia\"] * df[\"SoLuong\"]\n",
        "df\n",
        "\n",
        "# 5. Lọc các giao dịch thuộc nhóm hàng \"Điện tử\"\n",
        "df[df[\"NhomHang\"] == \"Điện tử\"]"
      ]
    }
  ],
  "metadata": {
    "colab": {
      "provenance": [],
      "toc_visible": true
    },
    "kernelspec": {
      "display_name": "Python 3",
      "name": "python3"
    },
    "language_info": {
      "codemirror_mode": {
        "name": "ipython",
        "version": 3
      },
      "file_extension": ".py",
      "mimetype": "text/x-python",
      "name": "python",
      "nbconvert_exporter": "python",
      "pygments_lexer": "ipython3",
      "version": "3.11.4"
    }
  },
  "nbformat": 4,
  "nbformat_minor": 0
}
