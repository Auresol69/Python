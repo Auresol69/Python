{
 "cells": [
  {
   "cell_type": "markdown",
   "id": "53b19655",
   "metadata": {},
   "source": [
    "\n",
    " # Bài  3 - Các thư viện quan trọng trong KHDL của Python\n",
    "\n",
    " ## 1. Thư viện Numpy\n",
    "\n",
    " ## 2. Thư viện Pandas"
   ]
  },
  {
   "cell_type": "markdown",
   "id": "765b47ad",
   "metadata": {},
   "source": [
    "## 1. Thư viện Numpy"
   ]
  },
  {
   "cell_type": "markdown",
   "id": "8bdc6276",
   "metadata": {},
   "source": [
    "\n",
    " - Giới thiệu `Numpy`\n",
    " - Mảng đa chiều (`ndarray`)\n",
    " - Chỉ số trong mảng\n",
    " - Biểu thức điều kiện Where\n",
    " - Các phép toán trên mảng\n",
    " - Các hàm toán học trên mảng\n",
    " - Sinh số ngẫu nhiên\n",
    " - Các hàm (phương thức) thống kê trên mảng\n",
    " - Kết hợp thống kê với boolean\n",
    " - Các phép toán giữa các mảng\n",
    " - Các phép toán đại số tuyến tính"
   ]
  },
  {
   "cell_type": "markdown",
   "id": "ef519c92",
   "metadata": {},
   "source": [
    "###  Giới thiệu `Numpy`"
   ]
  },
  {
   "cell_type": "markdown",
   "id": "68e32441",
   "metadata": {},
   "source": [
    "\n",
    "* `NumPy` (Numerical Python) là một thư viện để xử lý tính toán số học và dữ liệu dạng mảng (`array`) hiệu quả.\n",
    "\n",
    "* Đặc điểm nổi bật:\n",
    "\n",
    "    - Mảng đa chiều (`ndarray`)\n",
    "\n",
    "    - Tốc độ tính toán cao\n",
    "\n",
    "    - Tiết kiệm bộ nhớ\n",
    "\n",
    "    - Hỗ trợ broadcasting: cho phép tính toán giữa các mảng kích thước khác nhau\n",
    "\n",
    "    - Có các hàm toán học mạnh mẽ"
   ]
  },
  {
   "cell_type": "markdown",
   "id": "085338f1",
   "metadata": {},
   "source": [
    "### Mảng đa chiều (ndarray)"
   ]
  },
  {
   "cell_type": "markdown",
   "id": "173dda88",
   "metadata": {},
   "source": [
    "\n",
    " * ndarray (`n-dimensional array`)  dùng để lưu trữ và xử lý dữ liệu dạng mảng nhiều chiều.\n",
    "\n",
    " * Mọi phần tử trong ndarray phải cùng một kiểu dữ liệu (`int, float, bool,...`).\n",
    "\n",
    "\n",
    "\n",
    " * Hỗ trợ tính toán vector hóa: thực hiện phép toán trên toàn bộ mảng mà không cần vòng lặp."
   ]
  },
  {
   "cell_type": "code",
   "execution_count": 95,
   "id": "3f57cea2",
   "metadata": {},
   "outputs": [
    {
     "name": "stdout",
     "output_type": "stream",
     "text": [
      "[1 2 3]\n"
     ]
    }
   ],
   "source": [
    "# Tạo mảng 1 chiều từ list:\n",
    "import numpy as np\n",
    "\n",
    "A1 = np.array([1, 2, 3])\n",
    "print(A1)"
   ]
  },
  {
   "cell_type": "code",
   "execution_count": 96,
   "id": "477c026b",
   "metadata": {},
   "outputs": [
    {
     "name": "stdout",
     "output_type": "stream",
     "text": [
      "1\n",
      "(3,)\n"
     ]
    }
   ],
   "source": [
    "# Kiểm tra số chiều, kích thước mỗi chiều của mảng A1\n",
    "print(A1.ndim) \n",
    "print(A1.shape) "
   ]
  },
  {
   "cell_type": "code",
   "execution_count": 97,
   "id": "0388ecb2",
   "metadata": {},
   "outputs": [
    {
     "name": "stdout",
     "output_type": "stream",
     "text": [
      "[[1 2 3]\n",
      " [4 5 6]]\n"
     ]
    }
   ],
   "source": [
    "# Tạo mảng 2 chiều từ list: \n",
    "import numpy as np\n",
    "\n",
    "A2 = np.array([[1, 2, 3], [4, 5, 6]])\n",
    "print(A2)"
   ]
  },
  {
   "cell_type": "code",
   "execution_count": 98,
   "id": "b392311b",
   "metadata": {},
   "outputs": [
    {
     "name": "stdout",
     "output_type": "stream",
     "text": [
      "2\n",
      "(2, 3)\n"
     ]
    }
   ],
   "source": [
    "# Kiểm tra số chiều, kích thước mỗi chiều của mảng A1\n",
    "print(A2.ndim) \n",
    "print(A2.shape) "
   ]
  },
  {
   "cell_type": "code",
   "execution_count": 99,
   "id": "4aed8dc7",
   "metadata": {},
   "outputs": [
    {
     "name": "stdout",
     "output_type": "stream",
     "text": [
      "[[[ 1  2  3]\n",
      "  [ 3  4  6]]\n",
      "\n",
      " [[ 7  8  9]\n",
      "  [10 11 12]]]\n"
     ]
    }
   ],
   "source": [
    "# Tạo mảng 3 chiều từ list\n",
    "import numpy as np\n",
    "\n",
    "A3 = np.array([[[1, 2, 3], [3, 4, 6]], [[7, 8, 9],[10,11,12]]])\n",
    "print(A3)"
   ]
  },
  {
   "cell_type": "code",
   "execution_count": 100,
   "id": "e010d2bd",
   "metadata": {},
   "outputs": [
    {
     "name": "stdout",
     "output_type": "stream",
     "text": [
      "3\n",
      "(2, 2, 3)\n"
     ]
    }
   ],
   "source": [
    "# Kiểm tra số chiều, kích thước mỗi chiều của mảng A1\n",
    "\n",
    "print(A3.ndim) \n",
    "\n",
    "print(A3.shape)"
   ]
  },
  {
   "cell_type": "markdown",
   "id": "80404bd6",
   "metadata": {},
   "source": [
    "### Tạo mảng số học"
   ]
  },
  {
   "cell_type": "code",
   "execution_count": 101,
   "id": "eda643d2",
   "metadata": {},
   "outputs": [
    {
     "data": {
      "text/plain": [
       "array([0, 1, 2, 3, 4, 5, 6, 7, 8, 9])"
      ]
     },
     "execution_count": 101,
     "metadata": {},
     "output_type": "execute_result"
    }
   ],
   "source": [
    "# Mảng 1 chiều \n",
    "import numpy as np\n",
    "A= np.arange(10)\n",
    "A\n"
   ]
  },
  {
   "cell_type": "code",
   "execution_count": 102,
   "id": "40b3474d",
   "metadata": {},
   "outputs": [
    {
     "data": {
      "text/plain": [
       "array([0, 2, 4, 6, 8])"
      ]
     },
     "execution_count": 102,
     "metadata": {},
     "output_type": "execute_result"
    }
   ],
   "source": [
    "# Mảng 1 chiều \n",
    "import numpy as np\n",
    "A1= np.arange(0,10, 2)\n",
    "A1"
   ]
  },
  {
   "cell_type": "code",
   "execution_count": 103,
   "id": "8a672743",
   "metadata": {},
   "outputs": [
    {
     "data": {
      "text/plain": [
       "array([[0, 1, 2, 3, 4],\n",
       "       [5, 6, 7, 8, 9]])"
      ]
     },
     "execution_count": 103,
     "metadata": {},
     "output_type": "execute_result"
    }
   ],
   "source": [
    "# Mảng 2 chiều \n",
    "import numpy as np\n",
    "A2= np.arange(10).reshape(2,5)\n",
    "A2"
   ]
  },
  {
   "cell_type": "code",
   "execution_count": 104,
   "id": "6bfb821f",
   "metadata": {},
   "outputs": [
    {
     "data": {
      "text/plain": [
       "array([[[ 0,  1],\n",
       "        [ 2,  3]],\n",
       "\n",
       "       [[ 4,  5],\n",
       "        [ 6,  7]],\n",
       "\n",
       "       [[ 8,  9],\n",
       "        [10, 11]]])"
      ]
     },
     "execution_count": 104,
     "metadata": {},
     "output_type": "execute_result"
    }
   ],
   "source": [
    "# Mảng 3 chiều \n",
    "import numpy as np\n",
    "A3= np.arange(12).reshape(3,2,2)\n",
    "A3"
   ]
  },
  {
   "cell_type": "markdown",
   "id": "fd1a7c8e",
   "metadata": {},
   "source": [
    "### Một số mảng đặc biệt\n",
    "\n",
    "\n",
    "- Mảng chứa  toàn số 1\n",
    "- Mảng chứa toàn số 0 \n",
    "- Tạo mảng  có các giá trị giống nhau\n",
    "- Mảng ma trận đơn vị"
   ]
  },
  {
   "cell_type": "code",
   "execution_count": 105,
   "id": "2ec07b2c",
   "metadata": {},
   "outputs": [
    {
     "data": {
      "text/plain": [
       "array([[0., 0., 0., 0.],\n",
       "       [0., 0., 0., 0.]])"
      ]
     },
     "execution_count": 105,
     "metadata": {},
     "output_type": "execute_result"
    }
   ],
   "source": [
    "# Mảng chứa toàn số 0 \n",
    "import numpy as np\n",
    "A0 = np.zeros(8).reshape(2,4)\n",
    "A0"
   ]
  },
  {
   "cell_type": "code",
   "execution_count": 106,
   "id": "2843f078",
   "metadata": {},
   "outputs": [
    {
     "data": {
      "text/plain": [
       "array([[1., 1., 1., 1.],\n",
       "       [1., 1., 1., 1.],\n",
       "       [1., 1., 1., 1.]])"
      ]
     },
     "execution_count": 106,
     "metadata": {},
     "output_type": "execute_result"
    }
   ],
   "source": [
    "# Mảng chứa  toàn số 1\n",
    "import numpy as np\n",
    "A1= np.ones(12).reshape(3,4)\n",
    "A1"
   ]
  },
  {
   "cell_type": "code",
   "execution_count": 107,
   "id": "bdcbd364",
   "metadata": {},
   "outputs": [
    {
     "name": "stdout",
     "output_type": "stream",
     "text": [
      "[[100 100]\n",
      " [100 100]\n",
      " [100 100]]\n"
     ]
    }
   ],
   "source": [
    "# Tạo mảng  có các giá trị giống nhau\n",
    "import numpy as np\n",
    "full =np.full((3,2),100)\n",
    "print(full)"
   ]
  },
  {
   "cell_type": "code",
   "execution_count": 108,
   "id": "4745ec1c",
   "metadata": {},
   "outputs": [
    {
     "data": {
      "text/plain": [
       "array([[1., 0., 0., 0.],\n",
       "       [0., 1., 0., 0.],\n",
       "       [0., 0., 1., 0.],\n",
       "       [0., 0., 0., 1.]])"
      ]
     },
     "execution_count": 108,
     "metadata": {},
     "output_type": "execute_result"
    }
   ],
   "source": [
    "# Mảng ma trận đơn vị\n",
    "import numpy as np\n",
    "I = np.eye(4)\n",
    "I "
   ]
  },
  {
   "cell_type": "markdown",
   "id": "52a0cd1d",
   "metadata": {},
   "source": [
    "### Chỉ số trong mảng\n",
    "\n",
    "\n",
    "- Chỉ số trong mảng 1 chiều\n",
    "- Chỉ số trong mảng đa chiều\n",
    "- Chỉ số kiểu logical (Boolean Indexing)"
   ]
  },
  {
   "cell_type": "markdown",
   "id": "80a9a54d",
   "metadata": {},
   "source": [
    "### Chỉ số trong mảng 1 chiều"
   ]
  },
  {
   "cell_type": "code",
   "execution_count": 109,
   "id": "adba330b",
   "metadata": {},
   "outputs": [
    {
     "name": "stdout",
     "output_type": "stream",
     "text": [
      "[0 1 2 3 4 5 6 7 8 9]\n"
     ]
    },
    {
     "data": {
      "text/plain": [
       "array([0, 1, 2])"
      ]
     },
     "execution_count": 109,
     "metadata": {},
     "output_type": "execute_result"
    }
   ],
   "source": [
    "# Mảng 1 chiều chỉ số giống như list\n",
    "import numpy as np\n",
    "A= np.arange(10)\n",
    "print(A)\n",
    "A1 =A[:3] \n",
    "A1 # Khung nhìn 3 phân tử đầu của A"
   ]
  },
  {
   "cell_type": "code",
   "execution_count": 110,
   "id": "300306a2",
   "metadata": {},
   "outputs": [
    {
     "name": "stdout",
     "output_type": "stream",
     "text": [
      "[10  1  2]\n"
     ]
    },
    {
     "data": {
      "text/plain": [
       "array([10,  1,  2,  3,  4,  5,  6,  7,  8,  9])"
      ]
     },
     "execution_count": 110,
     "metadata": {},
     "output_type": "execute_result"
    }
   ],
   "source": [
    "# Thay đổi giá trị trên khung nhìn sẽ thay đổi giá trị trên mảng \n",
    "A1[0] =10\n",
    "print(A1)\n",
    "A"
   ]
  },
  {
   "cell_type": "code",
   "execution_count": 111,
   "id": "e8feb18c",
   "metadata": {},
   "outputs": [
    {
     "name": "stdout",
     "output_type": "stream",
     "text": [
      "[9 1 2]\n",
      "[10  1  2  3  4  5  6  7  8  9]\n"
     ]
    }
   ],
   "source": [
    "# Lấy giá trị trong khung nhìn bằng cách copy\n",
    "\n",
    "A2= A[:3].copy()\n",
    "A2[0] =9\n",
    "print(A2)\n",
    "print(A)"
   ]
  },
  {
   "cell_type": "markdown",
   "id": "f4056586",
   "metadata": {},
   "source": [
    "\n",
    "### Chỉ số trong mảng đa chiều"
   ]
  },
  {
   "cell_type": "code",
   "execution_count": 112,
   "id": "740e6d11",
   "metadata": {},
   "outputs": [
    {
     "name": "stdout",
     "output_type": "stream",
     "text": [
      "[[ 0  1  2  3]\n",
      " [ 4  5  6  7]\n",
      " [ 8  9 10 11]]\n",
      "7\n",
      "7\n"
     ]
    }
   ],
   "source": [
    "import numpy as np\n",
    "A = np.arange(12).reshape(3,4)\n",
    "print(A)\n",
    "\n",
    "# Truy xuất phần tử ở vị trí dòng 2 cột 4\n",
    "\n",
    "print(A[1,3])   \n",
    "print(A[1][3])  "
   ]
  },
  {
   "cell_type": "code",
   "execution_count": 113,
   "id": "3fe49714",
   "metadata": {},
   "outputs": [
    {
     "name": "stdout",
     "output_type": "stream",
     "text": [
      "[[ 0  1  2  3]\n",
      " [ 4  5  6  7]\n",
      " [ 8  9 10 11]]\n",
      "[4 5 6 7]\n"
     ]
    }
   ],
   "source": [
    "import numpy as np\n",
    "A = np.arange(12).reshape(3,4)\n",
    "print(A)\n",
    "\n",
    "# Truy xuất dòng thứ 2 trong mảng\n",
    "print(A[1,:])  \n"
   ]
  },
  {
   "cell_type": "code",
   "execution_count": 114,
   "id": "c709dae7",
   "metadata": {},
   "outputs": [
    {
     "name": "stdout",
     "output_type": "stream",
     "text": [
      "[[ 0  1  2  3]\n",
      " [ 4  5  6  7]\n",
      " [ 8  9 10 11]]\n",
      "[1 5 9]\n"
     ]
    }
   ],
   "source": [
    "import numpy as np\n",
    "A = np.arange(12).reshape(3,4)\n",
    "print(A)\n",
    "\n",
    "# Truy xuất cột trong mảng \n",
    "\n",
    "\n",
    "print(A[:,1]) \n",
    "\n",
    "\n"
   ]
  },
  {
   "cell_type": "code",
   "execution_count": 115,
   "id": "8dd70873",
   "metadata": {},
   "outputs": [
    {
     "name": "stdout",
     "output_type": "stream",
     "text": [
      "[[ 0  1  2  3]\n",
      " [ 4  5  6  7]\n",
      " [ 8  9 10 11]]\n",
      "[[ 5  6  7]\n",
      " [ 9 10 11]]\n"
     ]
    }
   ],
   "source": [
    "import numpy as np\n",
    "A = np.arange(12).reshape(3,4)\n",
    "print(A)\n",
    "\n",
    "# Truy xuất mảng con qua lát cắt  \n",
    "\n",
    "print(A[1:3, 1:4])"
   ]
  },
  {
   "cell_type": "code",
   "execution_count": 116,
   "id": "7452d525",
   "metadata": {},
   "outputs": [
    {
     "name": "stdout",
     "output_type": "stream",
     "text": [
      "[[ 0  1  2  3]\n",
      " [ 4  5  6  7]\n",
      " [ 8  9 10 11]]\n",
      "[ 1 11]\n"
     ]
    }
   ],
   "source": [
    "import numpy as np\n",
    "A = np.arange(12).reshape(3,4)\n",
    "print(A)\n",
    "# Truy xuất mảng con  qua list chỉ số\n",
    "print(A[[0,2], [1,3]])"
   ]
  },
  {
   "cell_type": "code",
   "execution_count": 117,
   "id": "1652ede7",
   "metadata": {},
   "outputs": [
    {
     "name": "stdout",
     "output_type": "stream",
     "text": [
      "[[[ 0  1  2]\n",
      "  [ 3  4  5]]\n",
      "\n",
      " [[ 6  7  8]\n",
      "  [ 9 10 11]]] \n",
      "\n",
      "[[0 1 2]\n",
      " [3 4 5]] \n",
      "\n",
      "[3 4 5] \n",
      "\n",
      "5\n"
     ]
    }
   ],
   "source": [
    "# Mảng 3 chiều \n",
    "import numpy as np\n",
    "A =np.arange(12).reshape(2,2,3)\n",
    "print(A, '\\n')\n",
    "print(A[0], '\\n')\n",
    "print(A[0,1], '\\n')\n",
    "print(A[0,1,2])"
   ]
  },
  {
   "cell_type": "markdown",
   "id": "8ef37f24",
   "metadata": {},
   "source": [
    "### Chỉ số kiểu logical (Boolean Indexing)"
   ]
  },
  {
   "cell_type": "code",
   "execution_count": 118,
   "id": "3f3e716b",
   "metadata": {},
   "outputs": [
    {
     "name": "stdout",
     "output_type": "stream",
     "text": [
      "[0 1 2 3 4 5]\n",
      "[False False False False  True  True]\n"
     ]
    }
   ],
   "source": [
    "import numpy as np\n",
    "A= np.arange(6)\n",
    "\n",
    "print(A)\n",
    "print(A>3)\n",
    "\n"
   ]
  },
  {
   "cell_type": "code",
   "execution_count": 119,
   "id": "d1535542",
   "metadata": {},
   "outputs": [
    {
     "data": {
      "text/plain": [
       "array([ 0,  2,  4,  6,  8, 10, 12, 14, 16, 18, 20, 22, 24, 26, 28, 30, 32,\n",
       "       34, 36, 38, 40, 42, 44, 46, 48, 50, 52, 54, 56, 58, 60, 62, 64, 66,\n",
       "       68, 70, 72, 74, 76, 78, 80, 82, 84, 86, 88, 90, 92, 94, 96, 98])"
      ]
     },
     "execution_count": 119,
     "metadata": {},
     "output_type": "execute_result"
    }
   ],
   "source": [
    "# Tạo mảng 1 chiều gồm các số chẵn <100\n",
    "import numpy as np\n",
    "A=np.arange(100)\n",
    "B= A[A%2==0]\n",
    "B"
   ]
  },
  {
   "cell_type": "markdown",
   "id": "36129231",
   "metadata": {},
   "source": [
    "## Biểu thức điều kiện Where\n",
    "\n",
    "\n",
    "    np.where(ĐK, x, y)\n",
    "\n",
    "Nếu điều kiện đúng thì chọn x, sai thì chọn y"
   ]
  },
  {
   "cell_type": "code",
   "execution_count": 120,
   "id": "b7d183d5",
   "metadata": {},
   "outputs": [
    {
     "name": "stdout",
     "output_type": "stream",
     "text": [
      "[0 1 2 3 4 5 6 7 8 9]\n",
      "['Chẵn' 'Lẻ' 'Chẵn' 'Lẻ' 'Chẵn' 'Lẻ' 'Chẵn' 'Lẻ' 'Chẵn' 'Lẻ']\n"
     ]
    }
   ],
   "source": [
    "# Tạo mảng 1 chiều có các số từ 0 đên 9\n",
    "# Thay chữ số chẵn bằng \"Chẵn\", chữ số lẻ bằng \"Lẻ\"\n",
    "\n",
    "\n",
    "A =np.arange(10)\n",
    "B = np.where(A%2==0,'Chẵn', 'Lẻ')\n",
    "print(A)\n",
    "print(B)"
   ]
  },
  {
   "cell_type": "code",
   "execution_count": 121,
   "id": "3ab54f4d",
   "metadata": {},
   "outputs": [
    {
     "name": "stdout",
     "output_type": "stream",
     "text": [
      "[0 1 2 3 4 5 6 7 8 9]\n",
      "['Chẵn' '1' 'Chẵn' '3' 'Chẵn' '5' 'Chẵn' '7' 'Chẵn' '9']\n"
     ]
    }
   ],
   "source": [
    "# Tạo mảng 1 chiều có các số từ 0 đên 9\n",
    "# Thay chữ số chẵn bằng \"Chẵn\", các chữ số lẻ giữ nguyên\n",
    "\n",
    "A =np.arange(10)\n",
    "B = np.where(A%2==0,'Chẵn', A)\n",
    "print(A)\n",
    "print(B)"
   ]
  },
  {
   "cell_type": "code",
   "execution_count": 122,
   "id": "7eddea0b",
   "metadata": {},
   "outputs": [
    {
     "name": "stdout",
     "output_type": "stream",
     "text": [
      "[ 1  2  7 -3 -4]\n",
      "[  1 100   7  -3 100]\n"
     ]
    }
   ],
   "source": [
    "# Tạo ra mảng từ list: [1, 2, 7, -3, -4]\n",
    "# Tìm các số chẵn đổi thành  100. \n",
    "\n",
    "\n",
    "A =np.array([1, 2, 7, -3, -4])\n",
    "\n",
    "B = np.where(A%2==0,100,A)\n",
    "print(A)\n",
    "print(B)"
   ]
  },
  {
   "cell_type": "code",
   "execution_count": 123,
   "id": "3a048093",
   "metadata": {},
   "outputs": [
    {
     "name": "stdout",
     "output_type": "stream",
     "text": [
      "[ 1  2  7 -3 -4]\n",
      "[1 2 7 0 0]\n"
     ]
    }
   ],
   "source": [
    "# Tạo ra mảng từ list: [1, 2, 7, -3, -4]\n",
    "# Tìm các số âm đổi thành 0\n",
    "\n",
    "\n",
    "A =np.array([1, 2, 7, -3, -4])\n",
    "\n",
    "B = np.where(A<0,0,A)\n",
    "\n",
    "print(A)\n",
    "print(B)"
   ]
  },
  {
   "cell_type": "code",
   "execution_count": 124,
   "id": "7675c7b3",
   "metadata": {},
   "outputs": [
    {
     "name": "stdout",
     "output_type": "stream",
     "text": [
      "[ 1  2  7 -3 -4]\n",
      "[1.  2.  7.  0.6 0.6]\n"
     ]
    }
   ],
   "source": [
    "# # Tạo ra mảng từ list: [1, 2, 7, -3, -4]\n",
    "# Tìm các số âm đổi thành giá trị trung bình trong mảng\n",
    "\n",
    "\n",
    "A =np.array([1, 2, 7, -3, -4])\n",
    "\n",
    "B = np.where(A<0, A.mean(), A)\n",
    "\n",
    "print(A)\n",
    "print(B)"
   ]
  },
  {
   "cell_type": "markdown",
   "id": "0159ec71",
   "metadata": {},
   "source": [
    "## Các phép toán trên mảng"
   ]
  },
  {
   "cell_type": "markdown",
   "id": "c4e8afd3",
   "metadata": {},
   "source": [
    " Tạo ra một mảng 2 chiều A size 2x4 gồm các số\n",
    "\n",
    " Thực hiện các phép toán: A+10, A-10, A*10, A/10, A**2 \n",
    " "
   ]
  },
  {
   "cell_type": "code",
   "execution_count": 125,
   "id": "3f4e0d10",
   "metadata": {},
   "outputs": [
    {
     "name": "stdout",
     "output_type": "stream",
     "text": [
      "[[0 1 2 3]\n",
      " [4 5 6 7]]\n",
      "[[10 11 12 13]\n",
      " [14 15 16 17]]\n"
     ]
    }
   ],
   "source": [
    "import numpy as np  \n",
    "A = np.arange(8).reshape(2,4)\n",
    "\n",
    "print(A)\n",
    "print(A+10)"
   ]
  },
  {
   "cell_type": "code",
   "execution_count": 126,
   "id": "e1c3e52d",
   "metadata": {},
   "outputs": [
    {
     "name": "stdout",
     "output_type": "stream",
     "text": [
      "[[0 1 2 3]\n",
      " [4 5 6 7]]\n",
      "[[ 0 10 20 30]\n",
      " [40 50 60 70]]\n"
     ]
    }
   ],
   "source": [
    "import numpy as np  \n",
    "A = np.arange(8).reshape(2,4)\n",
    "print(A)\n",
    "print(A*10)"
   ]
  },
  {
   "cell_type": "code",
   "execution_count": 127,
   "id": "2bcee53c",
   "metadata": {},
   "outputs": [
    {
     "name": "stdout",
     "output_type": "stream",
     "text": [
      "[[0 1 2 3]\n",
      " [4 5 6 7]]\n",
      "[[0.  0.1 0.2 0.3]\n",
      " [0.4 0.5 0.6 0.7]]\n"
     ]
    }
   ],
   "source": [
    "import numpy as np  \n",
    "A = np.arange(8).reshape(2,4)\n",
    "print(A)\n",
    "print(A/10)"
   ]
  },
  {
   "cell_type": "code",
   "execution_count": 128,
   "id": "25f3d788",
   "metadata": {},
   "outputs": [
    {
     "name": "stdout",
     "output_type": "stream",
     "text": [
      "[[0 1 2 3]\n",
      " [4 5 6 7]]\n",
      "[[ 0  1  4  9]\n",
      " [16 25 36 49]]\n"
     ]
    }
   ],
   "source": [
    "import numpy as np  \n",
    "A = np.arange(8).reshape(2,4)\n",
    "print(A)\n",
    "print(A**2)\n"
   ]
  },
  {
   "cell_type": "markdown",
   "id": "762612e7",
   "metadata": {},
   "source": [
    "## Các hàm toán học trên mảng"
   ]
  },
  {
   "cell_type": "markdown",
   "id": "a0ac72fc",
   "metadata": {},
   "source": [
    "\n",
    "\n",
    "\n",
    "| Hàm | Mô tả |\n",
    "|---|---|\n",
    "| `abs(A)` | $ \\|A\\| $ |\n",
    "| `sqrt(A) ,A**0.5` | $\\sqrt{A}$ |\n",
    "| `square(A), A**2` | $A^2$ |\n",
    "| `exp(A)` | $e^A$  |\n",
    "| `log(A)`, `log10(A)`, `log2(A)` | $ln(A), log_{10}(A), log_2(A)$ |\n",
    "| `sign(A)` | $1 (A>0), -1 (A<0), 0 (A=0) $|\n",
    "| `ceil()`, `floor()` | Làm tròn lên, làm tròn xuống |\n",
    "| `rint()` | Làm tròn đến số nguyên gần nhất (ưu tiên chẵn). |\n",
    "| `modf()` | Trả về phần phân số và phần nguyên. |\n",
    "| `isnan()`, `isfinite()`, `isinf()` |Kiểm tra số, hữu hạn, vô cùng lớn |\n",
    "| `cos()`, `sin()`, `tan()`... | Các hàm lượng giác. |"
   ]
  },
  {
   "cell_type": "code",
   "execution_count": 129,
   "id": "ccc51033",
   "metadata": {},
   "outputs": [
    {
     "data": {
      "text/plain": [
       "array([2, 9])"
      ]
     },
     "execution_count": 129,
     "metadata": {},
     "output_type": "execute_result"
    }
   ],
   "source": [
    "import numpy as np\n",
    "A =np.array([-2, 9])\n",
    "# Lấy trị tuyệt đối các phần tử của A\n",
    "\n",
    "np.abs(A)"
   ]
  },
  {
   "cell_type": "code",
   "execution_count": 130,
   "id": "b52224cd",
   "metadata": {},
   "outputs": [
    {
     "data": {
      "text/plain": [
       "array([1., 3.])"
      ]
     },
     "execution_count": 130,
     "metadata": {},
     "output_type": "execute_result"
    }
   ],
   "source": [
    "import numpy as np\n",
    "A =np.array([1, 9])\n",
    "# Lấy căn bậc 2 các phần tử của A \n",
    "\n",
    "np.sqrt(A)"
   ]
  },
  {
   "cell_type": "code",
   "execution_count": 131,
   "id": "f998e276",
   "metadata": {},
   "outputs": [
    {
     "data": {
      "text/plain": [
       "array([0., 2.])"
      ]
     },
     "execution_count": 131,
     "metadata": {},
     "output_type": "execute_result"
    }
   ],
   "source": [
    "import numpy as np\n",
    "A =np.array([1, 100])\n",
    "# Lấy logarit cơ số 10 các phần tử của A\n",
    "\n",
    "np.log10(A)"
   ]
  },
  {
   "cell_type": "code",
   "execution_count": 132,
   "id": "92cdff34",
   "metadata": {},
   "outputs": [
    {
     "data": {
      "text/plain": [
       "array([-1,  0,  1])"
      ]
     },
     "execution_count": 132,
     "metadata": {},
     "output_type": "execute_result"
    }
   ],
   "source": [
    "import numpy as np\n",
    "A =np.array([-3, 0, 9])\n",
    "\n",
    "# Lấy dấu các phần tử của A\n",
    "\n",
    "np.sign(A)"
   ]
  },
  {
   "cell_type": "code",
   "execution_count": 133,
   "id": "e52ffd19",
   "metadata": {},
   "outputs": [
    {
     "data": {
      "text/plain": [
       "array([ 2., -1.])"
      ]
     },
     "execution_count": 133,
     "metadata": {},
     "output_type": "execute_result"
    }
   ],
   "source": [
    "import numpy as np\n",
    "A =np.array([1.2, -1.6])\n",
    "\n",
    "# Làm tròn lên các phần tử của A\n",
    " \n",
    "np.ceil(A)"
   ]
  },
  {
   "cell_type": "code",
   "execution_count": 134,
   "id": "b29f5edf",
   "metadata": {},
   "outputs": [
    {
     "data": {
      "text/plain": [
       "array([ 1., -2.])"
      ]
     },
     "execution_count": 134,
     "metadata": {},
     "output_type": "execute_result"
    }
   ],
   "source": [
    "import numpy as np\n",
    "A =np.array([1.2, -1.6])\n",
    "\n",
    "# Làm tròn xuống các phần tử của A\n",
    "np.floor(A)"
   ]
  },
  {
   "cell_type": "code",
   "execution_count": 135,
   "id": "b6d1dc46",
   "metadata": {},
   "outputs": [
    {
     "data": {
      "text/plain": [
       "array([1., 2., 4.])"
      ]
     },
     "execution_count": 135,
     "metadata": {},
     "output_type": "execute_result"
    }
   ],
   "source": [
    "import numpy as np\n",
    "A =np.array([1.2, 2.5, 3.5])\n",
    "\n",
    "# Làm tròn các phần tử của A \n",
    "\n",
    "np.rint(A)"
   ]
  },
  {
   "cell_type": "code",
   "execution_count": 136,
   "id": "8c38ec68",
   "metadata": {},
   "outputs": [
    {
     "data": {
      "text/plain": [
       "(array([ 0.2, -0.6]), array([ 1., -3.]))"
      ]
     },
     "execution_count": 136,
     "metadata": {},
     "output_type": "execute_result"
    }
   ],
   "source": [
    "import numpy as np\n",
    "A =np.array([1.2, -3.6])\n",
    "# Tách lấy phần thập phân và phần nguyên trong A\n",
    "\n",
    "np.modf(A)"
   ]
  },
  {
   "cell_type": "code",
   "execution_count": 137,
   "id": "56e5951e",
   "metadata": {},
   "outputs": [
    {
     "name": "stdout",
     "output_type": "stream",
     "text": [
      "[1.09544512        nan]\n",
      "[False  True]\n"
     ]
    },
    {
     "name": "stderr",
     "output_type": "stream",
     "text": [
      "C:\\Users\\Thai Quoc Bao\\AppData\\Local\\Temp\\ipykernel_13388\\2343196243.py:6: RuntimeWarning: invalid value encountered in sqrt\n",
      "  print(np.sqrt(A))\n",
      "C:\\Users\\Thai Quoc Bao\\AppData\\Local\\Temp\\ipykernel_13388\\2343196243.py:7: RuntimeWarning: invalid value encountered in sqrt\n",
      "  print(np.isnan(np.sqrt(A)))\n"
     ]
    }
   ],
   "source": [
    "import numpy as np\n",
    "A =np.array([1.2, -1.6])\n",
    "# Khai căn phần tử của A\n",
    "# Kiểm tra trong A có phần tử không là số sau khai căn\n",
    "\n",
    "print(np.sqrt(A))\n",
    "print(np.isnan(np.sqrt(A)))"
   ]
  },
  {
   "cell_type": "markdown",
   "id": "b9f4629d",
   "metadata": {},
   "source": [
    "## Sinh số ngẫu nhiên"
   ]
  },
  {
   "cell_type": "markdown",
   "id": "f05b8225",
   "metadata": {},
   "source": [
    "\n",
    "| Hàm | Mô tả |\n",
    "|---|---|\n",
    "| `integers(a, b, size)` | Sinh số nguyên ngẫu nhiên trong $[a;b)$  |\n",
    "| `random(size)` | Sinh số thực ngẫu nhiên  trong $ [0;1)$ |\n",
    "| `uniform(a, b, size)` | Sinh số thực ngẫu nhiên  trong $[a;b)$|\n",
    "| `standard_normal(size)` | Sinh ngẫu nhiên từ phân phối Chuẩn hoá |\n",
    "| `normal(mean, var, size)` | Sinh ngẫu nhiên phân phối Chuẩn. |\n",
    "\n"
   ]
  },
  {
   "cell_type": "code",
   "execution_count": 138,
   "id": "b6f426c0",
   "metadata": {},
   "outputs": [],
   "source": [
    "# Tạo hạt giống seed , rng = Random Number Generator\n",
    "rng= np.random.default_rng(seed = 123)\n"
   ]
  },
  {
   "cell_type": "code",
   "execution_count": 139,
   "id": "63254c2d",
   "metadata": {},
   "outputs": [
    {
     "name": "stdout",
     "output_type": "stream",
     "text": [
      "sinh số nguyên ngẫu nhiên\n",
      " [[ 1 68 59  5]\n",
      " [90 22 25 18]]\n"
     ]
    }
   ],
   "source": [
    "rng= np.random.default_rng(seed = 123)\n",
    "# Sinh số nguyên ngẫu nhiên: integers(start, stop, size)\n",
    "# Tạo mảng size 2x4 gồm các số tự nhiên <100\n",
    "\n",
    "N = rng.integers(0,100, size=(2,4))\n",
    "print( 'sinh số nguyên ngẫu nhiên\\n', N)\n"
   ]
  },
  {
   "cell_type": "code",
   "execution_count": 140,
   "id": "81d9e226",
   "metadata": {},
   "outputs": [
    {
     "name": "stdout",
     "output_type": "stream",
     "text": [
      "Sinh số thực ngẫu nhiên\n",
      " [[0.68235186 0.05382102 0.22035987 0.18437181 0.1759059 ]\n",
      " [0.81209451 0.923345   0.2765744  0.81975456 0.88989269]\n",
      " [0.51297046 0.2449646  0.8242416  0.21376296 0.74146705]]\n"
     ]
    }
   ],
   "source": [
    "rng= np.random.default_rng(seed = 123)\n",
    "# Sinh ngẫu nhiên số thực trong [0;1): random(size)\n",
    "# Tạo mảng sizw 3x5 gồm các số thực ngẫu nhiên thuộc [0;1)\n",
    "\n",
    "R =rng.random((3,5))\n",
    "\n",
    "print('Sinh số thực ngẫu nhiên\\n' , R)\n"
   ]
  },
  {
   "cell_type": "code",
   "execution_count": 141,
   "id": "1c9a7e36",
   "metadata": {},
   "outputs": [
    {
     "name": "stdout",
     "output_type": "stream",
     "text": [
      "Sinh số thực ngẫu nhiên\n",
      " [[ 6.18822236 -1.35414777  0.64431847]\n",
      " [ 0.21246173  0.11087081  7.74513408]]\n"
     ]
    }
   ],
   "source": [
    "rng= np.random.default_rng(seed = 123)\n",
    "# Sinh số thực ngầu nhiên trong [a;b): uniform(a, b, size)\n",
    "# Tạo mảng sizw 2x3 gồm các số thực lấy ngẫu nhiên trong [-2;10)\n",
    "U =rng.uniform(-2,10, size = (2, 3))\n",
    "\n",
    "print('Sinh số thực ngẫu nhiên\\n' , U)\n"
   ]
  },
  {
   "cell_type": "code",
   "execution_count": 142,
   "id": "12cf2806",
   "metadata": {},
   "outputs": [
    {
     "name": "stdout",
     "output_type": "stream",
     "text": [
      "Sinh số ngẫu nhiên phân phối Chuẩn hoá\n",
      " [[-0.98912135 -0.36778665  1.28792526  0.19397442]\n",
      " [ 0.9202309   0.57710379 -0.63646365  0.54195222]\n",
      " [-0.31659545 -0.32238912  0.09716732 -1.52593041]]\n"
     ]
    }
   ],
   "source": [
    "rng= np.random.default_rng(seed = 123)\n",
    "# Sinh số ngẫu nhiên phân phối Chuẩn hoá: standard_normal(size)\n",
    "# Tạo mảng size 3x4 gồm từ phân phối Chuẩn hoá\n",
    "N =rng.standard_normal((3,4))\n",
    "print('Sinh số ngẫu nhiên phân phối Chuẩn hoá\\n', N )\n"
   ]
  },
  {
   "cell_type": "code",
   "execution_count": 143,
   "id": "e45dbd17",
   "metadata": {},
   "outputs": [
    {
     "name": "stdout",
     "output_type": "stream",
     "text": [
      "Sinh số ngẫu nhiên phân phối Chuẩn\n",
      " [[ 6.0435146   8.52885339 15.15170105 10.77589768 13.6809236 ]\n",
      " [12.30841517  7.45414541 12.16780888  8.7336182   8.71044354]]\n"
     ]
    }
   ],
   "source": [
    "rng= np.random.default_rng(seed = 123)\n",
    "# Sinh số ngẫu nhiên có phân phối Chuẩn: normal(mean, var, size)\n",
    "# Tạo mảng size 2x5 từ phân phối Chuẩn mean =10, Var = 4\n",
    "N= rng.normal(10, 4, size=(2,5))\n",
    "print('Sinh số ngẫu nhiên phân phối Chuẩn\\n', N)"
   ]
  },
  {
   "cell_type": "markdown",
   "id": "d119468e",
   "metadata": {},
   "source": [
    "## Các hàm, phương thức thống kê trên mảng"
   ]
  },
  {
   "cell_type": "markdown",
   "id": "4383636b",
   "metadata": {},
   "source": [
    "### Các hàm thống kê trên mảng\n",
    "\n",
    "| Hàm | Mô tả |\n",
    "|---|---|\n",
    "| `sum(A)` | Tổng các phần tử của A |\n",
    "| `mean(A)` | Trung bình các phần tử của A |\n",
    "| `var(A)`,`std(A)`  |Phương sai, độ lệch chuẩn mẫu A |\n",
    "| `min(A)`, `max(A)` | Giá trị min, max trong A |\n",
    "| `argmin(A)`, `argmax(A)` | Vị trí đạt min, max trong A |\n",
    "| `cumsum(A)` | Tổng tích lũy các phần tử trong A |\n",
    "| `cumprod(A)` | Tích tích lũy các phần tử trong A |"
   ]
  },
  {
   "cell_type": "code",
   "execution_count": 144,
   "id": "ab94ca5d",
   "metadata": {},
   "outputs": [
    {
     "name": "stdout",
     "output_type": "stream",
     "text": [
      "Tổng: 26\n",
      "Trung bình: 6.5\n",
      "Phương sai: 6.25\n",
      "Độ lệch chuẩn: 2.5\n",
      "Tổng tích luỹ: [10 13 20 26]\n",
      "Tích tích luỹ [  10   30  210 1260]\n"
     ]
    }
   ],
   "source": [
    "# Sử dụng hàm thống kê:\n",
    "# Tính các thống kê: Tổng, trung bình, phương sai, độ lệch chuẩn  tổng tích luỹ, tích tích luỹ của A\n",
    "\n",
    "import numpy as np\n",
    "A = np.array([10,3,7,6])\n",
    "\n",
    "print('Tổng:', np.sum(A))\n",
    "print('Trung bình:', np.mean(A))\n",
    "print('Phương sai:', np.var(A))\n",
    "print('Độ lệch chuẩn:', np.std(A))\n",
    "print('Tổng tích luỹ:', np.cumsum(A))\n",
    "print('Tích tích luỹ', np.cumprod(A))\n"
   ]
  },
  {
   "cell_type": "code",
   "execution_count": 145,
   "id": "cb1468e5",
   "metadata": {},
   "outputs": [
    {
     "name": "stdout",
     "output_type": "stream",
     "text": [
      "Tổng: 26\n",
      "Trung bình: 6.5\n",
      "Phương sai: 6.25\n",
      "Độ lệch chuẩn: 2.5\n",
      "Tổng tích luỹ: [10 13 20 26]\n",
      "Tích tích luỹ [  10   30  210 1260]\n"
     ]
    }
   ],
   "source": [
    "#Sử dụng phương thức thống kê\n",
    "# Tính các thống kê: Tổng, trung bình, phương sai, độ lệch chuẩn  tổng tích luỹ, tích tích luỹ của A\n",
    "\n",
    "import numpy as np\n",
    "A = np.array([10,3,7,6])\n",
    "\n",
    "print('Tổng:',  A.sum())\n",
    "print('Trung bình:',  A.mean())\n",
    "print('Phương sai:',  A.var())\n",
    "print('Độ lệch chuẩn:',  A.std())\n",
    "print('Tổng tích luỹ:',   A.cumsum())\n",
    "print('Tích tích luỹ',  A.cumprod())\n"
   ]
  },
  {
   "cell_type": "markdown",
   "id": "7ec39559",
   "metadata": {},
   "source": [
    "## Tính thống kê theo cột, hàng của mảng 2 chiều\n",
    "\n",
    "\n",
    "\n",
    " - axis = 0: Tính theo cột\n",
    " - axis = 1: Tính theo hàng\n"
   ]
  },
  {
   "cell_type": "code",
   "execution_count": 146,
   "id": "ece33927",
   "metadata": {},
   "outputs": [
    {
     "name": "stdout",
     "output_type": "stream",
     "text": [
      "[[10  3  7  6]\n",
      " [ 5 15  8  2]] \n",
      "\n",
      "Tổng trên mỗi cột: [15 18 15  8]\n",
      "Tổng trên mỗi hàng: [26 30] \n",
      "\n"
     ]
    }
   ],
   "source": [
    "# Tính tổng trên mỗi cột, mỗi hàng \n",
    "\n",
    "import numpy as np\n",
    "A = np.array([[10,3,7,6],[5,15,8,2]])\n",
    "print(A,'\\n')\n",
    "\n",
    "\n",
    "\n",
    "print('Tổng trên mỗi cột:', A.sum(axis=0))\n",
    "print('Tổng trên mỗi hàng:', A.sum(axis=1), '\\n')\n",
    "\n"
   ]
  },
  {
   "cell_type": "code",
   "execution_count": 147,
   "id": "ef265193",
   "metadata": {},
   "outputs": [
    {
     "name": "stdout",
     "output_type": "stream",
     "text": [
      "[[10  3  7  6]\n",
      " [ 5 15  8  2]] \n",
      "\n",
      "Tổng trên mỗi cột: [15 18 15  8]\n",
      "Tổng trên mỗi hàng: [26 30] \n",
      "\n"
     ]
    }
   ],
   "source": [
    "# Tính tổng trên mỗi cột, mỗi hàng \n",
    "import numpy as np\n",
    "A = np.array([[10,3,7,6],[5,15,8,2]])\n",
    "print(A,'\\n')\n",
    "\n",
    "\n",
    "\n",
    "print('Tổng trên mỗi cột:', A.sum(axis=0))\n",
    "print('Tổng trên mỗi hàng:', A.sum(axis=1), '\\n')\n",
    "\n"
   ]
  },
  {
   "cell_type": "code",
   "execution_count": 148,
   "id": "ba1f3c86",
   "metadata": {},
   "outputs": [
    {
     "name": "stdout",
     "output_type": "stream",
     "text": [
      "[[10  3  7  6]\n",
      " [ 5 15  8  2]] \n",
      "\n",
      "Trung bình trên mỗi cột: [7.5 9.  7.5 4. ]\n",
      "Trung bình trên mỗi hàng: [6.5 7.5]\n"
     ]
    }
   ],
   "source": [
    "# Tính trung bình trên mỗi cột, môi hàng\n",
    "import numpy as np\n",
    "A = np.array([[10,3,7,6],[5,15,8,2]])\n",
    "print(A,'\\n')\n",
    "\n",
    " \n",
    "\n",
    "print('Trung bình trên mỗi cột:', np.mean(A, axis=0))\n",
    "print('Trung bình trên mỗi hàng:', np.mean(A, axis=1))\n"
   ]
  },
  {
   "cell_type": "code",
   "execution_count": 149,
   "id": "ac64d2cd",
   "metadata": {},
   "outputs": [
    {
     "name": "stdout",
     "output_type": "stream",
     "text": [
      "[[10  3  7  6]\n",
      " [ 5 15  8  2]] \n",
      "\n",
      "Trung bình trên mỗi cột: [7.5 9.  7.5 4. ]\n",
      "Trung bình trên mỗi hàng: [6.5 7.5]\n"
     ]
    }
   ],
   "source": [
    "# Tính trung bình trên mỗi cột, môi hàng \n",
    "import numpy as np\n",
    "A = np.array([[10,3,7,6],[5,15,8,2]])\n",
    "print(A,'\\n')\n",
    "\n",
    "\n",
    "\n",
    "print('Trung bình trên mỗi cột:', A.mean(axis=0))\n",
    "print('Trung bình trên mỗi hàng:', A.mean(axis=1))\n"
   ]
  },
  {
   "cell_type": "markdown",
   "id": "6175753e",
   "metadata": {},
   "source": [
    "##  Kết hợp thống kê với boolean"
   ]
  },
  {
   "cell_type": "code",
   "execution_count": 150,
   "id": "f233c424",
   "metadata": {},
   "outputs": [
    {
     "name": "stdout",
     "output_type": "stream",
     "text": [
      "[[-0.98912135 -0.36778665  1.28792526  0.19397442]\n",
      " [ 0.9202309   0.57710379 -0.63646365  0.54195222]\n",
      " [-0.31659545 -0.32238912  0.09716732 -1.52593041]] \n",
      "\n",
      "Số phần tử dương: 6\n"
     ]
    }
   ],
   "source": [
    "# Đếm tổng số  giá trị dương trong mảng\n",
    "import numpy as np\n",
    "rng= np.random.default_rng(seed = 123)\n",
    "N =rng.standard_normal((3,4))\n",
    "print(N,'\\n')\n",
    "\n",
    "\n",
    "print(\"Số phần tử dương:\", np.sum(N>0))\n",
    "\n",
    "\n"
   ]
  },
  {
   "cell_type": "code",
   "execution_count": 151,
   "id": "53138aef",
   "metadata": {},
   "outputs": [
    {
     "name": "stdout",
     "output_type": "stream",
     "text": [
      "[[-0.98912135 -0.36778665  1.28792526  0.19397442]\n",
      " [ 0.9202309   0.57710379 -0.63646365  0.54195222]\n",
      " [-0.31659545 -0.32238912  0.09716732 -1.52593041]] \n",
      "\n",
      "Tổng các giá trị dương trong mảng: 3.618353910399721\n"
     ]
    }
   ],
   "source": [
    "# Tính tổng các giá trị dương trong mảng\n",
    "import numpy as np\n",
    "rng= np.random.default_rng(seed = 123)\n",
    "N =rng.standard_normal((3,4))\n",
    "print(N,'\\n')\n",
    "\n",
    "\n",
    "print(\"Tổng các giá trị dương trong mảng:\", np.sum(N[N>0]))\n",
    "\n",
    "\n"
   ]
  },
  {
   "cell_type": "markdown",
   "id": "df3db53b",
   "metadata": {},
   "source": [
    "## Tính toán giữa các mảng cùng size"
   ]
  },
  {
   "cell_type": "markdown",
   "id": "1da33ece",
   "metadata": {},
   "source": [
    "- Tạo 2 mảng A,B có cùng size\n",
    "\n",
    "- Tính: A+B, A*B, A/B, A//B, A%B, A**B"
   ]
  },
  {
   "cell_type": "code",
   "execution_count": 152,
   "id": "a53fb359",
   "metadata": {},
   "outputs": [
    {
     "name": "stdout",
     "output_type": "stream",
     "text": [
      "[[0 1 2]\n",
      " [3 4 5]]\n",
      "[[ 1  3  5]\n",
      " [ 7  9 11]]\n",
      "[[ 1  4  7]\n",
      " [10 13 16]]\n"
     ]
    }
   ],
   "source": [
    "import numpy as np\n",
    "A =np.arange(6).reshape(2,3)\n",
    "B = np.arange(1,12,2).reshape(2,3)\n",
    "print(A)\n",
    "print(B)\n",
    "\n",
    "print(A+B)"
   ]
  },
  {
   "cell_type": "code",
   "execution_count": 153,
   "id": "c7df2e78",
   "metadata": {},
   "outputs": [
    {
     "name": "stdout",
     "output_type": "stream",
     "text": [
      "[[0 1 2]\n",
      " [3 4 5]]\n",
      "[[ 1  3  5]\n",
      " [ 7  9 11]]\n",
      "[[ 0  3 10]\n",
      " [21 36 55]]\n"
     ]
    }
   ],
   "source": [
    "import numpy as np\n",
    "A =np.arange(6).reshape(2,3)\n",
    "B = np.arange(1,12,2).reshape(2,3)\n",
    "print(A)\n",
    "print(B)\n",
    "\n",
    "print(A*B)"
   ]
  },
  {
   "cell_type": "code",
   "execution_count": 154,
   "id": "a555a659",
   "metadata": {},
   "outputs": [
    {
     "name": "stdout",
     "output_type": "stream",
     "text": [
      "[[0 1 2]\n",
      " [3 4 5]]\n",
      "[[ 1  3  5]\n",
      " [ 7  9 11]]\n",
      "[[0.         0.33333333 0.4       ]\n",
      " [0.42857143 0.44444444 0.45454545]]\n"
     ]
    }
   ],
   "source": [
    "import numpy as np\n",
    "A =np.arange(6).reshape(2,3)\n",
    "B = np.arange(1,12,2).reshape(2,3)\n",
    "print(A)\n",
    "print(B)\n",
    "\n",
    "print(A/B)"
   ]
  },
  {
   "cell_type": "markdown",
   "id": "675de25f",
   "metadata": {},
   "source": [
    "## Tính toán giữa các mảng KHÔNG cùng size"
   ]
  },
  {
   "cell_type": "code",
   "execution_count": 155,
   "id": "faf1c34e",
   "metadata": {},
   "outputs": [
    {
     "name": "stdout",
     "output_type": "stream",
     "text": [
      "[[0 1 2 3]\n",
      " [4 5 6 7]]\n",
      "[10 10 10 10]\n",
      "[[10 11 12 13]\n",
      " [14 15 16 17]]\n"
     ]
    }
   ],
   "source": [
    "import numpy as np\n",
    "\n",
    "A= np.arange(8).reshape(2,4) \n",
    "B = np.array([10, 10, 10,10])\n",
    "\n",
    "print(A)\n",
    "print(B)\n",
    "\n",
    "\n",
    "print(A+B)"
   ]
  },
  {
   "cell_type": "markdown",
   "id": "c4c0da2d",
   "metadata": {},
   "source": [
    "## Các phép toán đại số tuyến tính (đọc giáo trình)\n",
    "\n"
   ]
  },
  {
   "cell_type": "code",
   "execution_count": 156,
   "id": "beecf188",
   "metadata": {},
   "outputs": [
    {
     "name": "stdout",
     "output_type": "stream",
     "text": [
      "[[0 1]\n",
      " [2 3]\n",
      " [4 5]] \n",
      "\n",
      "[[0 1]\n",
      " [2 3]] \n",
      "\n",
      "[[ 2  3]\n",
      " [ 6 11]\n",
      " [10 19]] \n",
      "\n"
     ]
    }
   ],
   "source": [
    "# Nhân ma trận\n",
    "import numpy as np\n",
    "A = np.arange(6).reshape(3,2)\n",
    "B= np.arange(4).reshape(2,2)\n",
    "\n",
    "print(A,'\\n')\n",
    "print(B,'\\n')\n",
    "C=np.dot(A, B)\n",
    "print(C,'\\n')\n"
   ]
  },
  {
   "cell_type": "markdown",
   "id": "a0a3fb4d",
   "metadata": {},
   "source": [
    "<span style=\"font-weight: bold; font-size: 28px; color: green; font-family: Arial, sans-serif;\">\n",
    "\n",
    "Giải hệ phương trình \n",
    "\n",
    "$\\left\\{\\begin{array}{l}2 x+3 y-4 z=-4 \\\\7 x+2 y+3 z=20 \\\\x+4 y+2 z=15\\end{array}\\right.$"
   ]
  },
  {
   "cell_type": "code",
   "execution_count": 157,
   "id": "1dcc2d4b",
   "metadata": {},
   "outputs": [
    {
     "name": "stdout",
     "output_type": "stream",
     "text": [
      "[[ 2  3 -4]\n",
      " [ 7  2  3]\n",
      " [ 1  4  2]]\n",
      "[[-4]\n",
      " [20]\n",
      " [15]]\n",
      "[[1.]\n",
      " [2.]\n",
      " [3.]]\n"
     ]
    }
   ],
   "source": [
    "# Giải hệ phương trình với thư viện numpy\n",
    "A = np.array([[2,3,-4],[7,2,3],[1,4,2]])\n",
    "B=np.array([-4,20,15]).reshape(3,1)\n",
    "print(A)\n",
    "print(B)\n",
    "A1 =np.linalg.solve(A,B )\n",
    "print(A1)"
   ]
  },
  {
   "cell_type": "markdown",
   "id": "50cff631",
   "metadata": {},
   "source": [
    "# 2. Thư viện Pandas\n",
    "`pandas =\"panel data\" `: dữ liệu bảng\n",
    "\n",
    " `pandas`: Được thiết kế tối ưu cho dữ liệu dạng bảng không đồng nhất\n",
    "\n",
    " `numpy`: Dữ liệu đồng nhất (cùng kiểu)\n",
    "\n",
    "- `Series`:  chuỗi dữ liệu một chiều \n",
    "- `DataFrame`:  bảng dữ liệu hai chiều \n",
    "\n",
    "`Series` và `DataFrame` thường là lựa chọn hiệu quả và trực quan trong hầu hết các tình huống xử lý dữ liệu thực tế."
   ]
  },
  {
   "cell_type": "markdown",
   "id": "c85744d1",
   "metadata": {},
   "source": [
    "## 2.1 Series (chuỗi) \n",
    "\n",
    "Mỗi phần tử trong `Series` gồm:\n",
    "  - Chỉ số (index) \n",
    "  - Giá trị dữ liệu (data)\n",
    " "
   ]
  },
  {
   "cell_type": "markdown",
   "id": "f8696a08",
   "metadata": {},
   "source": [
    "\n",
    "### Cú pháp tạo chuỗi: \n",
    "\n",
    "`s = pd.Series(list)`\n",
    "\n",
    "`s = pd.Series(list,index)`\n"
   ]
  },
  {
   "cell_type": "code",
   "execution_count": 158,
   "id": "455f6993",
   "metadata": {},
   "outputs": [
    {
     "name": "stdout",
     "output_type": "stream",
     "text": [
      "0    4\n",
      "1    7\n",
      "2   -5\n",
      "3    3\n",
      "dtype: int64\n"
     ]
    }
   ],
   "source": [
    "# Tạo chuỗi với chỉ số mặc định\n",
    "\n",
    "import pandas as pd\n",
    "l1 =[4, 7, -5, 3]\n",
    "s1= pd.Series(l1)\n",
    "print(s1)"
   ]
  },
  {
   "cell_type": "code",
   "execution_count": 159,
   "id": "36d6bc6b",
   "metadata": {},
   "outputs": [
    {
     "name": "stdout",
     "output_type": "stream",
     "text": [
      "0    K\n",
      "1    H\n",
      "2    D\n",
      "3    L\n",
      "dtype: object\n"
     ]
    }
   ],
   "source": [
    "import pandas as pd\n",
    "s2= pd.Series(list('KHDL'))\n",
    "print(s2)"
   ]
  },
  {
   "cell_type": "markdown",
   "id": "7f1233f8",
   "metadata": {},
   "source": [
    "### Trích xuất chỉ số và giá trị của `Series`"
   ]
  },
  {
   "cell_type": "code",
   "execution_count": 160,
   "id": "35b5661b",
   "metadata": {},
   "outputs": [
    {
     "name": "stdout",
     "output_type": "stream",
     "text": [
      "0    Khoa\n",
      "1     học\n",
      "2      dữ\n",
      "3    liệu\n",
      "dtype: object\n",
      "Chỉ số Series: RangeIndex(start=0, stop=4, step=1)\n",
      "Mảng giá trị Series: <NumpyExtensionArray>\n",
      "['Khoa', 'học', 'dữ', 'liệu']\n",
      "Length: 4, dtype: object\n"
     ]
    }
   ],
   "source": [
    "# Trích xuất chỉ số và mang giá trị trong Series qua thuộc tính: index, array\n",
    "import pandas as pd\n",
    "s= pd.Series(['Khoa', 'học', 'dữ', 'liệu'])\n",
    "\n",
    "print(s)\n",
    "print(\"Chỉ số Series:\", s.index)\n",
    "print(\"Mảng giá trị Series:\", s.array)"
   ]
  },
  {
   "cell_type": "code",
   "execution_count": 161,
   "id": "7ec54183",
   "metadata": {},
   "outputs": [
    {
     "name": "stdout",
     "output_type": "stream",
     "text": [
      "Khoa\n",
      "0    Khoa\n",
      "1     học\n",
      "dtype: object\n"
     ]
    }
   ],
   "source": [
    "# Truy cập các giá trị của chuỗi qua chỉ số\n",
    "import pandas as pd\n",
    "s= pd.Series(['Khoa', 'học', 'dữ', 'liệu'])\n",
    "print(s[0])\n",
    "print(s[0:2])\n",
    "\n"
   ]
  },
  {
   "cell_type": "markdown",
   "id": "b6ce4771",
   "metadata": {},
   "source": [
    "### Gán nhãn cho index"
   ]
  },
  {
   "cell_type": "code",
   "execution_count": 162,
   "id": "fd938e6f",
   "metadata": {},
   "outputs": [
    {
     "name": "stdout",
     "output_type": "stream",
     "text": [
      "Hạnh    8.2\n",
      "Phúc    6.5\n",
      "Bình    9.3\n",
      "An      7.8\n",
      "dtype: float64\n"
     ]
    }
   ],
   "source": [
    "# Tạo nhãn cho chỉ số của chuỗi\n",
    "import pandas as pd\n",
    "Tên =['Hạnh','Phúc','Bình','An']\n",
    "Điểm =[8.2, 6.5, 9.3, 7.8]\n",
    "\n",
    "sv= pd.Series(Điểm, index= Tên)\n",
    "print(sv)"
   ]
  },
  {
   "cell_type": "code",
   "execution_count": 163,
   "id": "dd657278",
   "metadata": {},
   "outputs": [
    {
     "name": "stdout",
     "output_type": "stream",
     "text": [
      "6.5\n",
      "Phúc    6.5\n",
      "dtype: float64\n",
      "Hạnh    8.2\n",
      "An      7.8\n",
      "dtype: float64\n"
     ]
    }
   ],
   "source": [
    "# Truy cập vào giá trị bằng nhãn\n",
    "\n",
    "print(sv['Phúc'])\n",
    "print(sv[['Phúc']])\n",
    "print(sv[['Hạnh','An']])"
   ]
  },
  {
   "cell_type": "code",
   "execution_count": 164,
   "id": "bd5d85ee",
   "metadata": {},
   "outputs": [
    {
     "name": "stdout",
     "output_type": "stream",
     "text": [
      "Hạnh    8.2\n",
      "Phúc    6.5\n",
      "Bình    9.3\n",
      "An      7.8\n",
      "dtype: float64\n",
      "H    8.2\n",
      "P    6.5\n",
      "B    9.3\n",
      "A    7.8\n",
      "dtype: float64\n"
     ]
    }
   ],
   "source": [
    "# Cập nhật chỉ số cho chuỗi\n",
    "import pandas as pd\n",
    "sv= pd.Series([8.2, 6.5, 9.3, 7.8], index= ['Hạnh','Phúc','Bình','An'])\n",
    "print(sv)\n",
    "sv.index = ['H','P','B','A']\n",
    "print(sv)\n",
    "\n"
   ]
  },
  {
   "cell_type": "markdown",
   "id": "18ee612d",
   "metadata": {},
   "source": [
    "### Tạo chuỗi từ Dict"
   ]
  },
  {
   "cell_type": "code",
   "execution_count": 165,
   "id": "1a78ab08",
   "metadata": {},
   "outputs": [
    {
     "name": "stdout",
     "output_type": "stream",
     "text": [
      "Tôm         250\n",
      "Cua         600\n",
      "Thịt lợn    150\n",
      "Cá          100\n",
      "dtype: int64\n"
     ]
    }
   ],
   "source": [
    "# Tạo Series từ Dict\n",
    "import pandas as pd\n",
    "dic = {'Tôm':250,'Cua':600,'Thịt lợn':150, 'Cá':100}\n",
    "tp =pd.Series(dic)\n",
    "print(tp)"
   ]
  },
  {
   "cell_type": "markdown",
   "id": "26f9d78f",
   "metadata": {},
   "source": [
    "### Cập nhật, chỉnh sửa chuỗi"
   ]
  },
  {
   "cell_type": "code",
   "execution_count": 166,
   "id": "7aa3bd5d",
   "metadata": {},
   "outputs": [
    {
     "name": "stdout",
     "output_type": "stream",
     "text": [
      "Hạnh    8.2\n",
      "Phúc    6.5\n",
      "Bình    9.3\n",
      "An      7.8\n",
      "dtype: float64\n",
      "Hạnh    8.2\n",
      "Phúc    6.5\n",
      "Bình    9.3\n",
      "An      7.8\n",
      "Long    6.8\n",
      "dtype: float64\n"
     ]
    }
   ],
   "source": [
    "# Thêm giá trị cho chuỗi \n",
    "import pandas as pd\n",
    "sv= pd.Series([8.2, 6.5, 9.3, 7.8], index= ['Hạnh','Phúc','Bình','An'])\n",
    "\n",
    "print(sv)\n",
    "sv['Long']=6.8\n",
    "print(sv)\n",
    "\n"
   ]
  },
  {
   "cell_type": "code",
   "execution_count": 167,
   "id": "5a420f67",
   "metadata": {},
   "outputs": [
    {
     "name": "stdout",
     "output_type": "stream",
     "text": [
      "Hạnh    8.2\n",
      "Phúc    6.5\n",
      "Bình    9.3\n",
      "An      7.8\n",
      "dtype: float64\n",
      "Hạnh    10.0\n",
      "Phúc     6.5\n",
      "Bình     9.3\n",
      "An       7.8\n",
      "dtype: float64\n"
     ]
    }
   ],
   "source": [
    "# Sửa giá trị của chuỗi \n",
    "import pandas as pd\n",
    "sv= pd.Series([8.2, 6.5, 9.3, 7.8], index= ['Hạnh','Phúc','Bình','An'])\n",
    "print(sv)\n",
    "sv['Hạnh']=10\n",
    "print(sv)\n",
    "\n"
   ]
  },
  {
   "cell_type": "code",
   "execution_count": 168,
   "id": "9f0928cc",
   "metadata": {},
   "outputs": [
    {
     "name": "stdout",
     "output_type": "stream",
     "text": [
      "Hạnh    8.2\n",
      "Phúc    6.5\n",
      "Bình    9.3\n",
      "An      7.8\n",
      "dtype: float64\n",
      "Hạnh    8.2\n",
      "Phúc    6.5\n",
      "Bình    9.3\n",
      "dtype: float64\n"
     ]
    }
   ],
   "source": [
    "# Xoá giá trị của chuỗi \n",
    "sv= pd.Series([8.2, 6.5, 9.3, 7.8], index= ['Hạnh','Phúc','Bình','An'])\n",
    "print(sv)\n",
    "del sv['An']\n",
    "print(sv)\n",
    "\n"
   ]
  },
  {
   "cell_type": "code",
   "execution_count": 169,
   "id": "a259dbdb",
   "metadata": {},
   "outputs": [
    {
     "name": "stdout",
     "output_type": "stream",
     "text": [
      "Hạnh    8.2\n",
      "Phúc    6.5\n",
      "Bình    9.3\n",
      "An      7.8\n",
      "dtype: float64\n",
      "Bình    9.3\n",
      "An      7.8\n",
      "Hạnh    8.2\n",
      "Phúc    6.5\n",
      "dtype: float64\n"
     ]
    }
   ],
   "source": [
    "# sắp xếp giá trị trong chuỗi theo chỉ số \n",
    "\n",
    "sv= pd.Series([8.2, 6.5, 9.3, 7.8], index= ['Hạnh','Phúc','Bình','An'])\n",
    "print(sv)\n",
    "sv1 =pd.Series(sv, index=['Bình','An','Hạnh','Phúc'])\n",
    "print(sv1)\n",
    "\n"
   ]
  },
  {
   "cell_type": "code",
   "execution_count": 170,
   "id": "b4bbc2d8",
   "metadata": {},
   "outputs": [
    {
     "name": "stdout",
     "output_type": "stream",
     "text": [
      "An      15.6\n",
      "Bình    18.6\n",
      "Hạnh    16.4\n",
      "Phúc    13.0\n",
      "dtype: float64\n"
     ]
    }
   ],
   "source": [
    "# Series tự căn chỉnh theo chỉ số\n",
    "sv= pd.Series([8.2, 6.5, 9.3, 7.8], index= ['Hạnh','Phúc','Bình','An'])\n",
    "sv1 =pd.Series(sv, index=['Bình','An','Hạnh','Phúc'])\n",
    "\n",
    "print(sv+sv1)"
   ]
  },
  {
   "cell_type": "code",
   "execution_count": 171,
   "id": "6c9c65cc",
   "metadata": {},
   "outputs": [
    {
     "data": {
      "text/plain": [
       "An      15.6\n",
       "Bình    18.6\n",
       "Hạnh    16.4\n",
       "Phúc    13.0\n",
       "Thêm     NaN\n",
       "dtype: float64"
      ]
     },
     "execution_count": 171,
     "metadata": {},
     "output_type": "execute_result"
    }
   ],
   "source": [
    "sv= pd.Series([8.2, 6.5, 9.3, 7.8], index= ['Hạnh','Phúc','Bình','An'])\n",
    "sv1 =pd.Series(sv, index=['Bình','An','Hạnh','Phúc'])\n",
    "sv1['Thêm'] =8.2\n",
    "sv1+sv"
   ]
  },
  {
   "cell_type": "markdown",
   "id": "3c0e4f7a",
   "metadata": {},
   "source": [
    "### Các phép toán trên chuỗi (giống trên Numpy)"
   ]
  },
  {
   "cell_type": "code",
   "execution_count": 172,
   "id": "6b1f6cb1",
   "metadata": {},
   "outputs": [
    {
     "name": "stdout",
     "output_type": "stream",
     "text": [
      "Hạnh    16.4\n",
      "Phúc    13.0\n",
      "Bình    18.6\n",
      "An      15.6\n",
      "dtype: float64\n",
      "Hạnh    10.2\n",
      "Phúc     8.5\n",
      "Bình    11.3\n",
      "An       9.8\n",
      "dtype: float64\n"
     ]
    }
   ],
   "source": [
    "sv= pd.Series([8.2, 6.5, 9.3, 7.8], index=['Hạnh','Phúc','Bình','An'])  \n",
    "print(sv*2)\n",
    "print(sv+2)"
   ]
  },
  {
   "cell_type": "code",
   "execution_count": 173,
   "id": "12e47f4a",
   "metadata": {},
   "outputs": [
    {
     "name": "stdout",
     "output_type": "stream",
     "text": [
      "7.95\n"
     ]
    }
   ],
   "source": [
    "sv= pd.Series([8.2, 6.5, 9.3, 7.8], index=['Hạnh','Phúc','Bình','An'])\n",
    "# Tính điểm trung bình của các SV \n",
    "print(sv.mean())\n",
    "\n"
   ]
  },
  {
   "cell_type": "code",
   "execution_count": 174,
   "id": "854e5a2c",
   "metadata": {},
   "outputs": [
    {
     "name": "stdout",
     "output_type": "stream",
     "text": [
      "1.3366666666666671\n",
      "1.1561430130683086\n"
     ]
    }
   ],
   "source": [
    "sv= pd.Series([8.2, 6.5, 9.3, 7.8], index=['Hạnh','Phúc','Bình','An'])\n",
    "# Tính phương sai, độ lệch chuẩn điểm của các sv \n",
    "print(sv.var())\n",
    "print(sv.std())\n",
    "\n"
   ]
  },
  {
   "cell_type": "code",
   "execution_count": 175,
   "id": "e55a143c",
   "metadata": {},
   "outputs": [
    {
     "name": "stdout",
     "output_type": "stream",
     "text": [
      "Hạnh    8.2\n",
      "Bình    9.3\n",
      "dtype: float64\n",
      "8.75\n"
     ]
    }
   ],
   "source": [
    "sv= pd.Series([8.2, 6.5, 9.3, 7.8], index=['Hạnh','Phúc','Bình','An'])\n",
    "# In ra các SV có điểm >8 và tính điểm TB của các SV đó\n",
    "\n",
    "print(sv[sv>8])\n",
    "print((sv[sv>8]).mean())\n"
   ]
  },
  {
   "cell_type": "code",
   "execution_count": 176,
   "id": "abd02c01",
   "metadata": {},
   "outputs": [
    {
     "name": "stdout",
     "output_type": "stream",
     "text": [
      "7.95\n"
     ]
    }
   ],
   "source": [
    "# Tính toán trên Series bằng các hàm của Numpy \n",
    "import numpy as np\n",
    "sv= pd.Series([8.2, 6.5, 9.3, 7.8], index=['Hạnh','Phúc','Bình','An'])  \n",
    "print(np.mean(sv))\n"
   ]
  },
  {
   "cell_type": "markdown",
   "id": "60c1fae3",
   "metadata": {},
   "source": [
    "# 2.2 DataFrame\n",
    "\n",
    "\n",
    "- `DataFrame` biểu diễn dữ liệu dạng bảng, chứa một tập hợp các cột, mỗi cột có thể là một kiểu giá trị. \n",
    "\n",
    "- `DataFrame` có cả chỉ số hàng (`index`) và chỉ số cột (`columns`).\n",
    "\n",
    "- `DataFrame` như là một từ điển (`Dict`) của các chuỗi (`Series`) có cùng chỉ số."
   ]
  },
  {
   "cell_type": "markdown",
   "id": "53f018b7",
   "metadata": {},
   "source": [
    "## Tạo DataFrame:\n",
    "\n"
   ]
  },
  {
   "cell_type": "code",
   "execution_count": 177,
   "id": "28edd222",
   "metadata": {},
   "outputs": [
    {
     "data": {
      "text/html": [
       "<div>\n",
       "<style scoped>\n",
       "    .dataframe tbody tr th:only-of-type {\n",
       "        vertical-align: middle;\n",
       "    }\n",
       "\n",
       "    .dataframe tbody tr th {\n",
       "        vertical-align: top;\n",
       "    }\n",
       "\n",
       "    .dataframe thead th {\n",
       "        text-align: right;\n",
       "    }\n",
       "</style>\n",
       "<table border=\"1\" class=\"dataframe\">\n",
       "  <thead>\n",
       "    <tr style=\"text-align: right;\">\n",
       "      <th></th>\n",
       "      <th>Sản phẩm</th>\n",
       "      <th>Giá bán</th>\n",
       "    </tr>\n",
       "  </thead>\n",
       "  <tbody>\n",
       "    <tr>\n",
       "      <th>0</th>\n",
       "      <td>Tôm</td>\n",
       "      <td>200</td>\n",
       "    </tr>\n",
       "    <tr>\n",
       "      <th>1</th>\n",
       "      <td>Cua</td>\n",
       "      <td>300</td>\n",
       "    </tr>\n",
       "    <tr>\n",
       "      <th>2</th>\n",
       "      <td>Cá</td>\n",
       "      <td>100</td>\n",
       "    </tr>\n",
       "    <tr>\n",
       "      <th>3</th>\n",
       "      <td>Thịt</td>\n",
       "      <td>150</td>\n",
       "    </tr>\n",
       "  </tbody>\n",
       "</table>\n",
       "</div>"
      ],
      "text/plain": [
       "  Sản phẩm  Giá bán\n",
       "0      Tôm      200\n",
       "1      Cua      300\n",
       "2       Cá      100\n",
       "3     Thịt      150"
      ]
     },
     "execution_count": 177,
     "metadata": {},
     "output_type": "execute_result"
    }
   ],
   "source": [
    "# 1. Tạo DataFrame từ Dict\n",
    "\n",
    "import pandas as pd\n",
    "data ={\n",
    "    \"Sản phẩm\":['Tôm','Cua','Cá','Thịt'],\n",
    "    \"Giá bán\":[200,300,100,150],\n",
    "        }\n",
    "df1 =pd.DataFrame(data)\n",
    "df1"
   ]
  },
  {
   "cell_type": "code",
   "execution_count": 178,
   "id": "f29ff30b",
   "metadata": {},
   "outputs": [
    {
     "data": {
      "text/html": [
       "<div>\n",
       "<style scoped>\n",
       "    .dataframe tbody tr th:only-of-type {\n",
       "        vertical-align: middle;\n",
       "    }\n",
       "\n",
       "    .dataframe tbody tr th {\n",
       "        vertical-align: top;\n",
       "    }\n",
       "\n",
       "    .dataframe thead th {\n",
       "        text-align: right;\n",
       "    }\n",
       "</style>\n",
       "<table border=\"1\" class=\"dataframe\">\n",
       "  <thead>\n",
       "    <tr style=\"text-align: right;\">\n",
       "      <th></th>\n",
       "      <th>Sản phẩm</th>\n",
       "      <th>Giá</th>\n",
       "    </tr>\n",
       "  </thead>\n",
       "  <tbody>\n",
       "    <tr>\n",
       "      <th>0</th>\n",
       "      <td>Tôm</td>\n",
       "      <td>200</td>\n",
       "    </tr>\n",
       "    <tr>\n",
       "      <th>1</th>\n",
       "      <td>Cua</td>\n",
       "      <td>300</td>\n",
       "    </tr>\n",
       "    <tr>\n",
       "      <th>2</th>\n",
       "      <td>Cá</td>\n",
       "      <td>100</td>\n",
       "    </tr>\n",
       "    <tr>\n",
       "      <th>3</th>\n",
       "      <td>Thịt</td>\n",
       "      <td>150</td>\n",
       "    </tr>\n",
       "  </tbody>\n",
       "</table>\n",
       "</div>"
      ],
      "text/plain": [
       "  Sản phẩm  Giá\n",
       "0      Tôm  200\n",
       "1      Cua  300\n",
       "2       Cá  100\n",
       "3     Thịt  150"
      ]
     },
     "execution_count": 178,
     "metadata": {},
     "output_type": "execute_result"
    }
   ],
   "source": [
    "# 2. Tạo DataFrame từ Dict của  Series\n",
    "\n",
    "import pandas as pd\n",
    "SP = pd.Series(['Tôm','Cua','Cá','Thịt'])\n",
    "Gia =pd.Series([200,300,100,150])\n",
    "\n",
    "\n",
    "df2 =pd.DataFrame({ \"Sản phẩm\":SP,\"Giá\":Gia })\n",
    "df2"
   ]
  },
  {
   "cell_type": "code",
   "execution_count": 179,
   "id": "5b911d36",
   "metadata": {},
   "outputs": [
    {
     "data": {
      "text/html": [
       "<div>\n",
       "<style scoped>\n",
       "    .dataframe tbody tr th:only-of-type {\n",
       "        vertical-align: middle;\n",
       "    }\n",
       "\n",
       "    .dataframe tbody tr th {\n",
       "        vertical-align: top;\n",
       "    }\n",
       "\n",
       "    .dataframe thead th {\n",
       "        text-align: right;\n",
       "    }\n",
       "</style>\n",
       "<table border=\"1\" class=\"dataframe\">\n",
       "  <thead>\n",
       "    <tr style=\"text-align: right;\">\n",
       "      <th></th>\n",
       "      <th>Sản phẩm</th>\n",
       "      <th>Giá</th>\n",
       "    </tr>\n",
       "  </thead>\n",
       "  <tbody>\n",
       "    <tr>\n",
       "      <th>0</th>\n",
       "      <td>Tôm</td>\n",
       "      <td>200</td>\n",
       "    </tr>\n",
       "    <tr>\n",
       "      <th>1</th>\n",
       "      <td>Cua</td>\n",
       "      <td>300</td>\n",
       "    </tr>\n",
       "    <tr>\n",
       "      <th>2</th>\n",
       "      <td>Cá</td>\n",
       "      <td>100</td>\n",
       "    </tr>\n",
       "    <tr>\n",
       "      <th>3</th>\n",
       "      <td>Thịt</td>\n",
       "      <td>150</td>\n",
       "    </tr>\n",
       "  </tbody>\n",
       "</table>\n",
       "</div>"
      ],
      "text/plain": [
       "  Sản phẩm  Giá\n",
       "0      Tôm  200\n",
       "1      Cua  300\n",
       "2       Cá  100\n",
       "3     Thịt  150"
      ]
     },
     "execution_count": 179,
     "metadata": {},
     "output_type": "execute_result"
    }
   ],
   "source": [
    "#3. Tạo DataFrame từ list của lists (hoặc tuple)\n",
    "import pandas as pd\n",
    "data =[\n",
    "    [\t'Tôm',\t200],\n",
    "    [\t'Cua',\t300],\n",
    "    [\t'Cá',\t100],\n",
    "    [\t'Thịt',\t150]\n",
    "]\n",
    "\n",
    "df3 =pd.DataFrame(data, columns=['Sản phẩm','Giá'])\n",
    "df3\n"
   ]
  },
  {
   "cell_type": "code",
   "execution_count": 180,
   "id": "0e2b6a5b",
   "metadata": {},
   "outputs": [
    {
     "data": {
      "text/html": [
       "<div>\n",
       "<style scoped>\n",
       "    .dataframe tbody tr th:only-of-type {\n",
       "        vertical-align: middle;\n",
       "    }\n",
       "\n",
       "    .dataframe tbody tr th {\n",
       "        vertical-align: top;\n",
       "    }\n",
       "\n",
       "    .dataframe thead th {\n",
       "        text-align: right;\n",
       "    }\n",
       "</style>\n",
       "<table border=\"1\" class=\"dataframe\">\n",
       "  <thead>\n",
       "    <tr style=\"text-align: right;\">\n",
       "      <th></th>\n",
       "      <th>A</th>\n",
       "      <th>B</th>\n",
       "      <th>C</th>\n",
       "    </tr>\n",
       "  </thead>\n",
       "  <tbody>\n",
       "    <tr>\n",
       "      <th>0</th>\n",
       "      <td>0</td>\n",
       "      <td>1</td>\n",
       "      <td>2</td>\n",
       "    </tr>\n",
       "    <tr>\n",
       "      <th>1</th>\n",
       "      <td>3</td>\n",
       "      <td>4</td>\n",
       "      <td>5</td>\n",
       "    </tr>\n",
       "    <tr>\n",
       "      <th>2</th>\n",
       "      <td>6</td>\n",
       "      <td>7</td>\n",
       "      <td>8</td>\n",
       "    </tr>\n",
       "    <tr>\n",
       "      <th>3</th>\n",
       "      <td>9</td>\n",
       "      <td>10</td>\n",
       "      <td>11</td>\n",
       "    </tr>\n",
       "  </tbody>\n",
       "</table>\n",
       "</div>"
      ],
      "text/plain": [
       "   A   B   C\n",
       "0  0   1   2\n",
       "1  3   4   5\n",
       "2  6   7   8\n",
       "3  9  10  11"
      ]
     },
     "execution_count": 180,
     "metadata": {},
     "output_type": "execute_result"
    }
   ],
   "source": [
    "# 4. Tạo DataFrame từ numpy array\n",
    "\n",
    "import numpy as np\n",
    "\n",
    "arr = np.arange(12).reshape(4,3)\n",
    "df4 = pd.DataFrame(arr, columns=[\"A\", \"B\", \"C\"])\n",
    "df4\n"
   ]
  },
  {
   "cell_type": "code",
   "execution_count": 181,
   "id": "4647d66d",
   "metadata": {},
   "outputs": [
    {
     "data": {
      "text/html": [
       "<div>\n",
       "<style scoped>\n",
       "    .dataframe tbody tr th:only-of-type {\n",
       "        vertical-align: middle;\n",
       "    }\n",
       "\n",
       "    .dataframe tbody tr th {\n",
       "        vertical-align: top;\n",
       "    }\n",
       "\n",
       "    .dataframe thead th {\n",
       "        text-align: right;\n",
       "    }\n",
       "</style>\n",
       "<table border=\"1\" class=\"dataframe\">\n",
       "  <thead>\n",
       "    <tr style=\"text-align: right;\">\n",
       "      <th></th>\n",
       "      <th>Chiều_dài_đài_hoa</th>\n",
       "      <th>Chiều_rộng_đài_hoa</th>\n",
       "      <th>Chiều_dài_cánh_hoa</th>\n",
       "      <th>Chiều_rộng_cánh_hoa</th>\n",
       "      <th>Loài_hoa</th>\n",
       "      <th>target</th>\n",
       "    </tr>\n",
       "  </thead>\n",
       "  <tbody>\n",
       "    <tr>\n",
       "      <th>0</th>\n",
       "      <td>5.1</td>\n",
       "      <td>3.5</td>\n",
       "      <td>1.4</td>\n",
       "      <td>0.2</td>\n",
       "      <td>setosa</td>\n",
       "      <td>0</td>\n",
       "    </tr>\n",
       "    <tr>\n",
       "      <th>1</th>\n",
       "      <td>4.9</td>\n",
       "      <td>3.0</td>\n",
       "      <td>1.4</td>\n",
       "      <td>0.2</td>\n",
       "      <td>setosa</td>\n",
       "      <td>0</td>\n",
       "    </tr>\n",
       "    <tr>\n",
       "      <th>2</th>\n",
       "      <td>4.7</td>\n",
       "      <td>3.2</td>\n",
       "      <td>1.3</td>\n",
       "      <td>0.2</td>\n",
       "      <td>setosa</td>\n",
       "      <td>0</td>\n",
       "    </tr>\n",
       "    <tr>\n",
       "      <th>3</th>\n",
       "      <td>4.6</td>\n",
       "      <td>3.1</td>\n",
       "      <td>1.5</td>\n",
       "      <td>0.2</td>\n",
       "      <td>setosa</td>\n",
       "      <td>0</td>\n",
       "    </tr>\n",
       "    <tr>\n",
       "      <th>4</th>\n",
       "      <td>5.0</td>\n",
       "      <td>3.6</td>\n",
       "      <td>1.4</td>\n",
       "      <td>0.2</td>\n",
       "      <td>setosa</td>\n",
       "      <td>0</td>\n",
       "    </tr>\n",
       "    <tr>\n",
       "      <th>...</th>\n",
       "      <td>...</td>\n",
       "      <td>...</td>\n",
       "      <td>...</td>\n",
       "      <td>...</td>\n",
       "      <td>...</td>\n",
       "      <td>...</td>\n",
       "    </tr>\n",
       "    <tr>\n",
       "      <th>145</th>\n",
       "      <td>6.7</td>\n",
       "      <td>3.0</td>\n",
       "      <td>5.2</td>\n",
       "      <td>2.3</td>\n",
       "      <td>virginica</td>\n",
       "      <td>2</td>\n",
       "    </tr>\n",
       "    <tr>\n",
       "      <th>146</th>\n",
       "      <td>6.3</td>\n",
       "      <td>2.5</td>\n",
       "      <td>5.0</td>\n",
       "      <td>1.9</td>\n",
       "      <td>virginica</td>\n",
       "      <td>2</td>\n",
       "    </tr>\n",
       "    <tr>\n",
       "      <th>147</th>\n",
       "      <td>6.5</td>\n",
       "      <td>3.0</td>\n",
       "      <td>5.2</td>\n",
       "      <td>2.0</td>\n",
       "      <td>virginica</td>\n",
       "      <td>2</td>\n",
       "    </tr>\n",
       "    <tr>\n",
       "      <th>148</th>\n",
       "      <td>6.2</td>\n",
       "      <td>3.4</td>\n",
       "      <td>5.4</td>\n",
       "      <td>2.3</td>\n",
       "      <td>virginica</td>\n",
       "      <td>2</td>\n",
       "    </tr>\n",
       "    <tr>\n",
       "      <th>149</th>\n",
       "      <td>5.9</td>\n",
       "      <td>3.0</td>\n",
       "      <td>5.1</td>\n",
       "      <td>1.8</td>\n",
       "      <td>virginica</td>\n",
       "      <td>2</td>\n",
       "    </tr>\n",
       "  </tbody>\n",
       "</table>\n",
       "<p>150 rows × 6 columns</p>\n",
       "</div>"
      ],
      "text/plain": [
       "     Chiều_dài_đài_hoa  Chiều_rộng_đài_hoa  Chiều_dài_cánh_hoa  \\\n",
       "0                  5.1                 3.5                 1.4   \n",
       "1                  4.9                 3.0                 1.4   \n",
       "2                  4.7                 3.2                 1.3   \n",
       "3                  4.6                 3.1                 1.5   \n",
       "4                  5.0                 3.6                 1.4   \n",
       "..                 ...                 ...                 ...   \n",
       "145                6.7                 3.0                 5.2   \n",
       "146                6.3                 2.5                 5.0   \n",
       "147                6.5                 3.0                 5.2   \n",
       "148                6.2                 3.4                 5.4   \n",
       "149                5.9                 3.0                 5.1   \n",
       "\n",
       "     Chiều_rộng_cánh_hoa   Loài_hoa  target  \n",
       "0                    0.2     setosa       0  \n",
       "1                    0.2     setosa       0  \n",
       "2                    0.2     setosa       0  \n",
       "3                    0.2     setosa       0  \n",
       "4                    0.2     setosa       0  \n",
       "..                   ...        ...     ...  \n",
       "145                  2.3  virginica       2  \n",
       "146                  1.9  virginica       2  \n",
       "147                  2.0  virginica       2  \n",
       "148                  2.3  virginica       2  \n",
       "149                  1.8  virginica       2  \n",
       "\n",
       "[150 rows x 6 columns]"
      ]
     },
     "execution_count": 181,
     "metadata": {},
     "output_type": "execute_result"
    }
   ],
   "source": [
    "# 5. Đọc dữ liệu từ file csv, excel\n",
    "import pandas as pd\n",
    "url = 'https://raw.githubusercontent.com/NCT-NEU/Sach_Khoa_hoc_du_lieu_python/refs/heads/main/datasets/iris.xlsx'\n",
    "df5 = pd.read_excel(url)\n",
    "df5\n"
   ]
  },
  {
   "cell_type": "code",
   "execution_count": 182,
   "id": "cf7a4d79",
   "metadata": {},
   "outputs": [
    {
     "data": {
      "text/html": [
       "<div>\n",
       "<style scoped>\n",
       "    .dataframe tbody tr th:only-of-type {\n",
       "        vertical-align: middle;\n",
       "    }\n",
       "\n",
       "    .dataframe tbody tr th {\n",
       "        vertical-align: top;\n",
       "    }\n",
       "\n",
       "    .dataframe thead th {\n",
       "        text-align: right;\n",
       "    }\n",
       "</style>\n",
       "<table border=\"1\" class=\"dataframe\">\n",
       "  <thead>\n",
       "    <tr style=\"text-align: right;\">\n",
       "      <th></th>\n",
       "      <th>Chiều_dài_đài_hoa</th>\n",
       "      <th>Chiều_rộng_đài_hoa</th>\n",
       "      <th>Chiều_dài_cánh_hoa</th>\n",
       "      <th>Chiều_rộng_cánh_hoa</th>\n",
       "      <th>Loài_hoa</th>\n",
       "      <th>target</th>\n",
       "    </tr>\n",
       "  </thead>\n",
       "  <tbody>\n",
       "    <tr>\n",
       "      <th>0</th>\n",
       "      <td>5.1</td>\n",
       "      <td>3.5</td>\n",
       "      <td>1.4</td>\n",
       "      <td>0.2</td>\n",
       "      <td>setosa</td>\n",
       "      <td>0</td>\n",
       "    </tr>\n",
       "    <tr>\n",
       "      <th>1</th>\n",
       "      <td>4.9</td>\n",
       "      <td>3.0</td>\n",
       "      <td>1.4</td>\n",
       "      <td>0.2</td>\n",
       "      <td>setosa</td>\n",
       "      <td>0</td>\n",
       "    </tr>\n",
       "    <tr>\n",
       "      <th>2</th>\n",
       "      <td>4.7</td>\n",
       "      <td>3.2</td>\n",
       "      <td>1.3</td>\n",
       "      <td>0.2</td>\n",
       "      <td>setosa</td>\n",
       "      <td>0</td>\n",
       "    </tr>\n",
       "    <tr>\n",
       "      <th>3</th>\n",
       "      <td>4.6</td>\n",
       "      <td>3.1</td>\n",
       "      <td>1.5</td>\n",
       "      <td>0.2</td>\n",
       "      <td>setosa</td>\n",
       "      <td>0</td>\n",
       "    </tr>\n",
       "    <tr>\n",
       "      <th>4</th>\n",
       "      <td>5.0</td>\n",
       "      <td>3.6</td>\n",
       "      <td>1.4</td>\n",
       "      <td>0.2</td>\n",
       "      <td>setosa</td>\n",
       "      <td>0</td>\n",
       "    </tr>\n",
       "  </tbody>\n",
       "</table>\n",
       "</div>"
      ],
      "text/plain": [
       "   Chiều_dài_đài_hoa  Chiều_rộng_đài_hoa  Chiều_dài_cánh_hoa  \\\n",
       "0                5.1                 3.5                 1.4   \n",
       "1                4.9                 3.0                 1.4   \n",
       "2                4.7                 3.2                 1.3   \n",
       "3                4.6                 3.1                 1.5   \n",
       "4                5.0                 3.6                 1.4   \n",
       "\n",
       "   Chiều_rộng_cánh_hoa Loài_hoa  target  \n",
       "0                  0.2   setosa       0  \n",
       "1                  0.2   setosa       0  \n",
       "2                  0.2   setosa       0  \n",
       "3                  0.2   setosa       0  \n",
       "4                  0.2   setosa       0  "
      ]
     },
     "execution_count": 182,
     "metadata": {},
     "output_type": "execute_result"
    }
   ],
   "source": [
    "# Phương thức xem các phần tử đầu  danh sách\n",
    "df5.head()\n"
   ]
  },
  {
   "cell_type": "code",
   "execution_count": 183,
   "id": "74eb2cef",
   "metadata": {},
   "outputs": [
    {
     "data": {
      "text/html": [
       "<div>\n",
       "<style scoped>\n",
       "    .dataframe tbody tr th:only-of-type {\n",
       "        vertical-align: middle;\n",
       "    }\n",
       "\n",
       "    .dataframe tbody tr th {\n",
       "        vertical-align: top;\n",
       "    }\n",
       "\n",
       "    .dataframe thead th {\n",
       "        text-align: right;\n",
       "    }\n",
       "</style>\n",
       "<table border=\"1\" class=\"dataframe\">\n",
       "  <thead>\n",
       "    <tr style=\"text-align: right;\">\n",
       "      <th></th>\n",
       "      <th>Chiều_dài_đài_hoa</th>\n",
       "      <th>Chiều_rộng_đài_hoa</th>\n",
       "      <th>Chiều_dài_cánh_hoa</th>\n",
       "      <th>Chiều_rộng_cánh_hoa</th>\n",
       "      <th>Loài_hoa</th>\n",
       "      <th>target</th>\n",
       "    </tr>\n",
       "  </thead>\n",
       "  <tbody>\n",
       "    <tr>\n",
       "      <th>0</th>\n",
       "      <td>5.1</td>\n",
       "      <td>3.5</td>\n",
       "      <td>1.4</td>\n",
       "      <td>0.2</td>\n",
       "      <td>setosa</td>\n",
       "      <td>0</td>\n",
       "    </tr>\n",
       "    <tr>\n",
       "      <th>1</th>\n",
       "      <td>4.9</td>\n",
       "      <td>3.0</td>\n",
       "      <td>1.4</td>\n",
       "      <td>0.2</td>\n",
       "      <td>setosa</td>\n",
       "      <td>0</td>\n",
       "    </tr>\n",
       "    <tr>\n",
       "      <th>2</th>\n",
       "      <td>4.7</td>\n",
       "      <td>3.2</td>\n",
       "      <td>1.3</td>\n",
       "      <td>0.2</td>\n",
       "      <td>setosa</td>\n",
       "      <td>0</td>\n",
       "    </tr>\n",
       "  </tbody>\n",
       "</table>\n",
       "</div>"
      ],
      "text/plain": [
       "   Chiều_dài_đài_hoa  Chiều_rộng_đài_hoa  Chiều_dài_cánh_hoa  \\\n",
       "0                5.1                 3.5                 1.4   \n",
       "1                4.9                 3.0                 1.4   \n",
       "2                4.7                 3.2                 1.3   \n",
       "\n",
       "   Chiều_rộng_cánh_hoa Loài_hoa  target  \n",
       "0                  0.2   setosa       0  \n",
       "1                  0.2   setosa       0  \n",
       "2                  0.2   setosa       0  "
      ]
     },
     "execution_count": 183,
     "metadata": {},
     "output_type": "execute_result"
    }
   ],
   "source": [
    "# Phương thức xem các phần tử đầu danh sách\n",
    "df5.head(3)\n"
   ]
  },
  {
   "cell_type": "code",
   "execution_count": 184,
   "id": "c5467228",
   "metadata": {},
   "outputs": [
    {
     "data": {
      "text/html": [
       "<div>\n",
       "<style scoped>\n",
       "    .dataframe tbody tr th:only-of-type {\n",
       "        vertical-align: middle;\n",
       "    }\n",
       "\n",
       "    .dataframe tbody tr th {\n",
       "        vertical-align: top;\n",
       "    }\n",
       "\n",
       "    .dataframe thead th {\n",
       "        text-align: right;\n",
       "    }\n",
       "</style>\n",
       "<table border=\"1\" class=\"dataframe\">\n",
       "  <thead>\n",
       "    <tr style=\"text-align: right;\">\n",
       "      <th></th>\n",
       "      <th>Chiều_dài_đài_hoa</th>\n",
       "      <th>Chiều_rộng_đài_hoa</th>\n",
       "      <th>Chiều_dài_cánh_hoa</th>\n",
       "      <th>Chiều_rộng_cánh_hoa</th>\n",
       "      <th>Loài_hoa</th>\n",
       "      <th>target</th>\n",
       "    </tr>\n",
       "  </thead>\n",
       "  <tbody>\n",
       "    <tr>\n",
       "      <th>145</th>\n",
       "      <td>6.7</td>\n",
       "      <td>3.0</td>\n",
       "      <td>5.2</td>\n",
       "      <td>2.3</td>\n",
       "      <td>virginica</td>\n",
       "      <td>2</td>\n",
       "    </tr>\n",
       "    <tr>\n",
       "      <th>146</th>\n",
       "      <td>6.3</td>\n",
       "      <td>2.5</td>\n",
       "      <td>5.0</td>\n",
       "      <td>1.9</td>\n",
       "      <td>virginica</td>\n",
       "      <td>2</td>\n",
       "    </tr>\n",
       "    <tr>\n",
       "      <th>147</th>\n",
       "      <td>6.5</td>\n",
       "      <td>3.0</td>\n",
       "      <td>5.2</td>\n",
       "      <td>2.0</td>\n",
       "      <td>virginica</td>\n",
       "      <td>2</td>\n",
       "    </tr>\n",
       "    <tr>\n",
       "      <th>148</th>\n",
       "      <td>6.2</td>\n",
       "      <td>3.4</td>\n",
       "      <td>5.4</td>\n",
       "      <td>2.3</td>\n",
       "      <td>virginica</td>\n",
       "      <td>2</td>\n",
       "    </tr>\n",
       "    <tr>\n",
       "      <th>149</th>\n",
       "      <td>5.9</td>\n",
       "      <td>3.0</td>\n",
       "      <td>5.1</td>\n",
       "      <td>1.8</td>\n",
       "      <td>virginica</td>\n",
       "      <td>2</td>\n",
       "    </tr>\n",
       "  </tbody>\n",
       "</table>\n",
       "</div>"
      ],
      "text/plain": [
       "     Chiều_dài_đài_hoa  Chiều_rộng_đài_hoa  Chiều_dài_cánh_hoa  \\\n",
       "145                6.7                 3.0                 5.2   \n",
       "146                6.3                 2.5                 5.0   \n",
       "147                6.5                 3.0                 5.2   \n",
       "148                6.2                 3.4                 5.4   \n",
       "149                5.9                 3.0                 5.1   \n",
       "\n",
       "     Chiều_rộng_cánh_hoa   Loài_hoa  target  \n",
       "145                  2.3  virginica       2  \n",
       "146                  1.9  virginica       2  \n",
       "147                  2.0  virginica       2  \n",
       "148                  2.3  virginica       2  \n",
       "149                  1.8  virginica       2  "
      ]
     },
     "execution_count": 184,
     "metadata": {},
     "output_type": "execute_result"
    }
   ],
   "source": [
    "# Phương thức xem các phần tử cuối danh sách\n",
    "df5.tail()"
   ]
  },
  {
   "cell_type": "markdown",
   "id": "2016ad38",
   "metadata": {},
   "source": [
    "## Truy xuất vào cột trong DataFrame"
   ]
  },
  {
   "cell_type": "code",
   "execution_count": 185,
   "id": "5088e214",
   "metadata": {},
   "outputs": [
    {
     "name": "stdout",
     "output_type": "stream",
     "text": [
      "  Sản phẩm  Giá\n",
      "0      Tôm  200\n",
      "1      Cua  300\n",
      "2       Cá  100\n",
      "3     Thịt  150\n"
     ]
    },
    {
     "data": {
      "text/plain": [
       "0    200\n",
       "1    300\n",
       "2    100\n",
       "3    150\n",
       "Name: Giá, dtype: int64"
      ]
     },
     "execution_count": 185,
     "metadata": {},
     "output_type": "execute_result"
    }
   ],
   "source": [
    "import pandas as pd\n",
    "data ={\n",
    "    \"Sản phẩm\":['Tôm','Cua','Cá','Thịt'],\n",
    "    \"Giá\":[200,300,100,150],\n",
    "        }\n",
    "KH =pd.DataFrame(data)\n",
    "print(KH)\n",
    "\n",
    "# Truy xuất cột qua tên như kiểu Dict\n",
    "KH[\"Giá\"]"
   ]
  },
  {
   "cell_type": "code",
   "execution_count": 186,
   "id": "1da2e0ee",
   "metadata": {},
   "outputs": [
    {
     "data": {
      "text/html": [
       "<div>\n",
       "<style scoped>\n",
       "    .dataframe tbody tr th:only-of-type {\n",
       "        vertical-align: middle;\n",
       "    }\n",
       "\n",
       "    .dataframe tbody tr th {\n",
       "        vertical-align: top;\n",
       "    }\n",
       "\n",
       "    .dataframe thead th {\n",
       "        text-align: right;\n",
       "    }\n",
       "</style>\n",
       "<table border=\"1\" class=\"dataframe\">\n",
       "  <thead>\n",
       "    <tr style=\"text-align: right;\">\n",
       "      <th></th>\n",
       "      <th>Giá</th>\n",
       "      <th>Sản phẩm</th>\n",
       "    </tr>\n",
       "  </thead>\n",
       "  <tbody>\n",
       "    <tr>\n",
       "      <th>0</th>\n",
       "      <td>200</td>\n",
       "      <td>Tôm</td>\n",
       "    </tr>\n",
       "    <tr>\n",
       "      <th>1</th>\n",
       "      <td>300</td>\n",
       "      <td>Cua</td>\n",
       "    </tr>\n",
       "    <tr>\n",
       "      <th>2</th>\n",
       "      <td>100</td>\n",
       "      <td>Cá</td>\n",
       "    </tr>\n",
       "    <tr>\n",
       "      <th>3</th>\n",
       "      <td>150</td>\n",
       "      <td>Thịt</td>\n",
       "    </tr>\n",
       "  </tbody>\n",
       "</table>\n",
       "</div>"
      ],
      "text/plain": [
       "   Giá Sản phẩm\n",
       "0  200      Tôm\n",
       "1  300      Cua\n",
       "2  100       Cá\n",
       "3  150     Thịt"
      ]
     },
     "execution_count": 186,
     "metadata": {},
     "output_type": "execute_result"
    }
   ],
   "source": [
    "# Truy xuất cùng lúc nhiều cột\n",
    "\n",
    "KH[[\"Giá\", \"Sản phẩm\"]]"
   ]
  },
  {
   "cell_type": "code",
   "execution_count": 187,
   "id": "39f920ed",
   "metadata": {},
   "outputs": [
    {
     "data": {
      "text/plain": [
       "0    200\n",
       "1    300\n",
       "2    100\n",
       "3    150\n",
       "Name: Giá, dtype: int64"
      ]
     },
     "execution_count": 187,
     "metadata": {},
     "output_type": "execute_result"
    }
   ],
   "source": [
    "# Truy xuất cột qua tên như thuộc tính\n",
    "KH.Giá"
   ]
  },
  {
   "cell_type": "code",
   "execution_count": 188,
   "id": "fb25e0fb",
   "metadata": {},
   "outputs": [
    {
     "name": "stdout",
     "output_type": "stream",
     "text": [
      "  Sản phẩm  Giá\n",
      "0      Tôm  200\n",
      "1      Cua  300\n",
      "2       Cá  100\n",
      "3     Thịt  150\n"
     ]
    },
    {
     "data": {
      "text/html": [
       "<div>\n",
       "<style scoped>\n",
       "    .dataframe tbody tr th:only-of-type {\n",
       "        vertical-align: middle;\n",
       "    }\n",
       "\n",
       "    .dataframe tbody tr th {\n",
       "        vertical-align: top;\n",
       "    }\n",
       "\n",
       "    .dataframe thead th {\n",
       "        text-align: right;\n",
       "    }\n",
       "</style>\n",
       "<table border=\"1\" class=\"dataframe\">\n",
       "  <thead>\n",
       "    <tr style=\"text-align: right;\">\n",
       "      <th></th>\n",
       "      <th>Sản phẩm</th>\n",
       "      <th>Giá</th>\n",
       "      <th>Lượng bán</th>\n",
       "      <th>Ngày bán</th>\n",
       "    </tr>\n",
       "  </thead>\n",
       "  <tbody>\n",
       "    <tr>\n",
       "      <th>0</th>\n",
       "      <td>Tôm</td>\n",
       "      <td>200</td>\n",
       "      <td>20</td>\n",
       "      <td>Thứ 2</td>\n",
       "    </tr>\n",
       "    <tr>\n",
       "      <th>1</th>\n",
       "      <td>Cua</td>\n",
       "      <td>300</td>\n",
       "      <td>21</td>\n",
       "      <td>Thứ 2</td>\n",
       "    </tr>\n",
       "    <tr>\n",
       "      <th>2</th>\n",
       "      <td>Cá</td>\n",
       "      <td>100</td>\n",
       "      <td>22</td>\n",
       "      <td>Thứ 2</td>\n",
       "    </tr>\n",
       "    <tr>\n",
       "      <th>3</th>\n",
       "      <td>Thịt</td>\n",
       "      <td>150</td>\n",
       "      <td>30</td>\n",
       "      <td>Thứ 2</td>\n",
       "    </tr>\n",
       "  </tbody>\n",
       "</table>\n",
       "</div>"
      ],
      "text/plain": [
       "  Sản phẩm  Giá  Lượng bán Ngày bán\n",
       "0      Tôm  200         20    Thứ 2\n",
       "1      Cua  300         21    Thứ 2\n",
       "2       Cá  100         22    Thứ 2\n",
       "3     Thịt  150         30    Thứ 2"
      ]
     },
     "execution_count": 188,
     "metadata": {},
     "output_type": "execute_result"
    }
   ],
   "source": [
    "# 1. Thêm cột mới cho df\n",
    "print(KH)\n",
    "KH[\"Lượng bán\"] =[20,21,22,30]\n",
    "KH['Ngày bán'] =\"Thứ 2\"\n",
    "KH\n"
   ]
  },
  {
   "cell_type": "code",
   "execution_count": 189,
   "id": "59b9189d",
   "metadata": {},
   "outputs": [
    {
     "data": {
      "text/html": [
       "<div>\n",
       "<style scoped>\n",
       "    .dataframe tbody tr th:only-of-type {\n",
       "        vertical-align: middle;\n",
       "    }\n",
       "\n",
       "    .dataframe tbody tr th {\n",
       "        vertical-align: top;\n",
       "    }\n",
       "\n",
       "    .dataframe thead th {\n",
       "        text-align: right;\n",
       "    }\n",
       "</style>\n",
       "<table border=\"1\" class=\"dataframe\">\n",
       "  <thead>\n",
       "    <tr style=\"text-align: right;\">\n",
       "      <th></th>\n",
       "      <th>Sản phẩm</th>\n",
       "      <th>Giá</th>\n",
       "      <th>Lượng bán</th>\n",
       "    </tr>\n",
       "  </thead>\n",
       "  <tbody>\n",
       "    <tr>\n",
       "      <th>0</th>\n",
       "      <td>Tôm</td>\n",
       "      <td>200</td>\n",
       "      <td>20</td>\n",
       "    </tr>\n",
       "    <tr>\n",
       "      <th>1</th>\n",
       "      <td>Cua</td>\n",
       "      <td>300</td>\n",
       "      <td>21</td>\n",
       "    </tr>\n",
       "    <tr>\n",
       "      <th>2</th>\n",
       "      <td>Cá</td>\n",
       "      <td>100</td>\n",
       "      <td>22</td>\n",
       "    </tr>\n",
       "    <tr>\n",
       "      <th>3</th>\n",
       "      <td>Thịt</td>\n",
       "      <td>150</td>\n",
       "      <td>30</td>\n",
       "    </tr>\n",
       "  </tbody>\n",
       "</table>\n",
       "</div>"
      ],
      "text/plain": [
       "  Sản phẩm  Giá  Lượng bán\n",
       "0      Tôm  200         20\n",
       "1      Cua  300         21\n",
       "2       Cá  100         22\n",
       "3     Thịt  150         30"
      ]
     },
     "execution_count": 189,
     "metadata": {},
     "output_type": "execute_result"
    }
   ],
   "source": [
    "# Xoá cột \n",
    "KH1 =KH.copy()\n",
    "del KH1[\"Ngày bán\"]\n",
    "\n",
    "KH1\n"
   ]
  },
  {
   "cell_type": "markdown",
   "id": "488fafff",
   "metadata": {},
   "source": [
    "### Truy xuất vào  hàng trong DataFrame"
   ]
  },
  {
   "cell_type": "code",
   "execution_count": 190,
   "id": "9d8c4aa8",
   "metadata": {},
   "outputs": [
    {
     "data": {
      "text/html": [
       "<div>\n",
       "<style scoped>\n",
       "    .dataframe tbody tr th:only-of-type {\n",
       "        vertical-align: middle;\n",
       "    }\n",
       "\n",
       "    .dataframe tbody tr th {\n",
       "        vertical-align: top;\n",
       "    }\n",
       "\n",
       "    .dataframe thead th {\n",
       "        text-align: right;\n",
       "    }\n",
       "</style>\n",
       "<table border=\"1\" class=\"dataframe\">\n",
       "  <thead>\n",
       "    <tr style=\"text-align: right;\">\n",
       "      <th></th>\n",
       "      <th>Sản phẩm</th>\n",
       "      <th>Giá</th>\n",
       "      <th>Lượng bán</th>\n",
       "      <th>Ngày bán</th>\n",
       "    </tr>\n",
       "  </thead>\n",
       "  <tbody>\n",
       "    <tr>\n",
       "      <th>0</th>\n",
       "      <td>Tôm</td>\n",
       "      <td>200</td>\n",
       "      <td>20</td>\n",
       "      <td>Thứ 2</td>\n",
       "    </tr>\n",
       "  </tbody>\n",
       "</table>\n",
       "</div>"
      ],
      "text/plain": [
       "  Sản phẩm  Giá  Lượng bán Ngày bán\n",
       "0      Tôm  200         20    Thứ 2"
      ]
     },
     "execution_count": 190,
     "metadata": {},
     "output_type": "execute_result"
    }
   ],
   "source": [
    "# Truy xuất vào hàng thông qua chỉ số hàng \n",
    "KH.iloc[[0]]"
   ]
  },
  {
   "cell_type": "code",
   "execution_count": 191,
   "id": "0c469426",
   "metadata": {},
   "outputs": [
    {
     "data": {
      "text/html": [
       "<div>\n",
       "<style scoped>\n",
       "    .dataframe tbody tr th:only-of-type {\n",
       "        vertical-align: middle;\n",
       "    }\n",
       "\n",
       "    .dataframe tbody tr th {\n",
       "        vertical-align: top;\n",
       "    }\n",
       "\n",
       "    .dataframe thead th {\n",
       "        text-align: right;\n",
       "    }\n",
       "</style>\n",
       "<table border=\"1\" class=\"dataframe\">\n",
       "  <thead>\n",
       "    <tr style=\"text-align: right;\">\n",
       "      <th></th>\n",
       "      <th>Sản phẩm</th>\n",
       "      <th>Giá</th>\n",
       "      <th>Lượng bán</th>\n",
       "      <th>Ngày bán</th>\n",
       "    </tr>\n",
       "  </thead>\n",
       "  <tbody>\n",
       "    <tr>\n",
       "      <th>0</th>\n",
       "      <td>Tôm</td>\n",
       "      <td>200</td>\n",
       "      <td>20</td>\n",
       "      <td>Thứ 2</td>\n",
       "    </tr>\n",
       "    <tr>\n",
       "      <th>3</th>\n",
       "      <td>Thịt</td>\n",
       "      <td>150</td>\n",
       "      <td>30</td>\n",
       "      <td>Thứ 2</td>\n",
       "    </tr>\n",
       "  </tbody>\n",
       "</table>\n",
       "</div>"
      ],
      "text/plain": [
       "  Sản phẩm  Giá  Lượng bán Ngày bán\n",
       "0      Tôm  200         20    Thứ 2\n",
       "3     Thịt  150         30    Thứ 2"
      ]
     },
     "execution_count": 191,
     "metadata": {},
     "output_type": "execute_result"
    }
   ],
   "source": [
    "# Truy xuất vào nhiều hàng thông qua chỉ số hàng \n",
    "KH.iloc[[0,3]]"
   ]
  },
  {
   "cell_type": "code",
   "execution_count": 192,
   "id": "4dc1d81d",
   "metadata": {},
   "outputs": [
    {
     "data": {
      "text/html": [
       "<div>\n",
       "<style scoped>\n",
       "    .dataframe tbody tr th:only-of-type {\n",
       "        vertical-align: middle;\n",
       "    }\n",
       "\n",
       "    .dataframe tbody tr th {\n",
       "        vertical-align: top;\n",
       "    }\n",
       "\n",
       "    .dataframe thead th {\n",
       "        text-align: right;\n",
       "    }\n",
       "</style>\n",
       "<table border=\"1\" class=\"dataframe\">\n",
       "  <thead>\n",
       "    <tr style=\"text-align: right;\">\n",
       "      <th></th>\n",
       "      <th>Sản phẩm</th>\n",
       "      <th>Giá</th>\n",
       "      <th>Lượng bán</th>\n",
       "      <th>Ngày bán</th>\n",
       "    </tr>\n",
       "  </thead>\n",
       "  <tbody>\n",
       "    <tr>\n",
       "      <th>0</th>\n",
       "      <td>Tôm</td>\n",
       "      <td>200</td>\n",
       "      <td>20</td>\n",
       "      <td>Thứ 2</td>\n",
       "    </tr>\n",
       "    <tr>\n",
       "      <th>1</th>\n",
       "      <td>Cua</td>\n",
       "      <td>300</td>\n",
       "      <td>21</td>\n",
       "      <td>Thứ 2</td>\n",
       "    </tr>\n",
       "  </tbody>\n",
       "</table>\n",
       "</div>"
      ],
      "text/plain": [
       "  Sản phẩm  Giá  Lượng bán Ngày bán\n",
       "0      Tôm  200         20    Thứ 2\n",
       "1      Cua  300         21    Thứ 2"
      ]
     },
     "execution_count": 192,
     "metadata": {},
     "output_type": "execute_result"
    }
   ],
   "source": [
    "# Truy xuất các hàng  qua lát cắt chỉ số hàng\n",
    "\n",
    "KH.iloc[0:2]"
   ]
  },
  {
   "cell_type": "code",
   "execution_count": 193,
   "id": "d2c24271",
   "metadata": {},
   "outputs": [
    {
     "data": {
      "text/html": [
       "<div>\n",
       "<style scoped>\n",
       "    .dataframe tbody tr th:only-of-type {\n",
       "        vertical-align: middle;\n",
       "    }\n",
       "\n",
       "    .dataframe tbody tr th {\n",
       "        vertical-align: top;\n",
       "    }\n",
       "\n",
       "    .dataframe thead th {\n",
       "        text-align: right;\n",
       "    }\n",
       "</style>\n",
       "<table border=\"1\" class=\"dataframe\">\n",
       "  <thead>\n",
       "    <tr style=\"text-align: right;\">\n",
       "      <th></th>\n",
       "      <th>Sản phẩm</th>\n",
       "      <th>Giá</th>\n",
       "      <th>Lượng bán</th>\n",
       "      <th>Ngày bán</th>\n",
       "    </tr>\n",
       "  </thead>\n",
       "  <tbody>\n",
       "    <tr>\n",
       "      <th>K1</th>\n",
       "      <td>Tôm</td>\n",
       "      <td>200</td>\n",
       "      <td>20</td>\n",
       "      <td>Thứ 2</td>\n",
       "    </tr>\n",
       "    <tr>\n",
       "      <th>K2</th>\n",
       "      <td>Cua</td>\n",
       "      <td>300</td>\n",
       "      <td>21</td>\n",
       "      <td>Thứ 2</td>\n",
       "    </tr>\n",
       "    <tr>\n",
       "      <th>K3</th>\n",
       "      <td>Cá</td>\n",
       "      <td>100</td>\n",
       "      <td>22</td>\n",
       "      <td>Thứ 2</td>\n",
       "    </tr>\n",
       "    <tr>\n",
       "      <th>K4</th>\n",
       "      <td>Thịt</td>\n",
       "      <td>150</td>\n",
       "      <td>30</td>\n",
       "      <td>Thứ 2</td>\n",
       "    </tr>\n",
       "  </tbody>\n",
       "</table>\n",
       "</div>"
      ],
      "text/plain": [
       "   Sản phẩm  Giá  Lượng bán Ngày bán\n",
       "K1      Tôm  200         20    Thứ 2\n",
       "K2      Cua  300         21    Thứ 2\n",
       "K3       Cá  100         22    Thứ 2\n",
       "K4     Thịt  150         30    Thứ 2"
      ]
     },
     "execution_count": 193,
     "metadata": {},
     "output_type": "execute_result"
    }
   ],
   "source": [
    "# Gán nhãn cho chỉ số hàng\n",
    "KH.index=[\"K1\",\"K2\",\"K3\",\"K4\"]\n",
    "KH"
   ]
  },
  {
   "cell_type": "code",
   "execution_count": 194,
   "id": "d5a82395",
   "metadata": {},
   "outputs": [
    {
     "data": {
      "text/html": [
       "<div>\n",
       "<style scoped>\n",
       "    .dataframe tbody tr th:only-of-type {\n",
       "        vertical-align: middle;\n",
       "    }\n",
       "\n",
       "    .dataframe tbody tr th {\n",
       "        vertical-align: top;\n",
       "    }\n",
       "\n",
       "    .dataframe thead th {\n",
       "        text-align: right;\n",
       "    }\n",
       "</style>\n",
       "<table border=\"1\" class=\"dataframe\">\n",
       "  <thead>\n",
       "    <tr style=\"text-align: right;\">\n",
       "      <th></th>\n",
       "      <th>Sản phẩm</th>\n",
       "      <th>Giá</th>\n",
       "      <th>Lượng bán</th>\n",
       "      <th>Ngày bán</th>\n",
       "    </tr>\n",
       "  </thead>\n",
       "  <tbody>\n",
       "    <tr>\n",
       "      <th>K1</th>\n",
       "      <td>Tôm</td>\n",
       "      <td>200</td>\n",
       "      <td>20</td>\n",
       "      <td>Thứ 2</td>\n",
       "    </tr>\n",
       "  </tbody>\n",
       "</table>\n",
       "</div>"
      ],
      "text/plain": [
       "   Sản phẩm  Giá  Lượng bán Ngày bán\n",
       "K1      Tôm  200         20    Thứ 2"
      ]
     },
     "execution_count": 194,
     "metadata": {},
     "output_type": "execute_result"
    }
   ],
   "source": [
    "# Truy xuất vào hàng qua tên nhãn của hàng\n",
    "\n",
    "KH.loc[['K1']]"
   ]
  },
  {
   "cell_type": "code",
   "execution_count": 195,
   "id": "f7512736",
   "metadata": {},
   "outputs": [
    {
     "data": {
      "text/html": [
       "<div>\n",
       "<style scoped>\n",
       "    .dataframe tbody tr th:only-of-type {\n",
       "        vertical-align: middle;\n",
       "    }\n",
       "\n",
       "    .dataframe tbody tr th {\n",
       "        vertical-align: top;\n",
       "    }\n",
       "\n",
       "    .dataframe thead th {\n",
       "        text-align: right;\n",
       "    }\n",
       "</style>\n",
       "<table border=\"1\" class=\"dataframe\">\n",
       "  <thead>\n",
       "    <tr style=\"text-align: right;\">\n",
       "      <th></th>\n",
       "      <th>Sản phẩm</th>\n",
       "      <th>Giá</th>\n",
       "      <th>Lượng bán</th>\n",
       "      <th>Ngày bán</th>\n",
       "    </tr>\n",
       "  </thead>\n",
       "  <tbody>\n",
       "    <tr>\n",
       "      <th>K1</th>\n",
       "      <td>Tôm</td>\n",
       "      <td>200</td>\n",
       "      <td>20</td>\n",
       "      <td>Thứ 2</td>\n",
       "    </tr>\n",
       "    <tr>\n",
       "      <th>K4</th>\n",
       "      <td>Thịt</td>\n",
       "      <td>150</td>\n",
       "      <td>30</td>\n",
       "      <td>Thứ 2</td>\n",
       "    </tr>\n",
       "  </tbody>\n",
       "</table>\n",
       "</div>"
      ],
      "text/plain": [
       "   Sản phẩm  Giá  Lượng bán Ngày bán\n",
       "K1      Tôm  200         20    Thứ 2\n",
       "K4     Thịt  150         30    Thứ 2"
      ]
     },
     "execution_count": 195,
     "metadata": {},
     "output_type": "execute_result"
    }
   ],
   "source": [
    "KH.loc[['K1','K4']]"
   ]
  },
  {
   "cell_type": "code",
   "execution_count": 196,
   "id": "31dea3f1",
   "metadata": {},
   "outputs": [
    {
     "data": {
      "text/html": [
       "<div>\n",
       "<style scoped>\n",
       "    .dataframe tbody tr th:only-of-type {\n",
       "        vertical-align: middle;\n",
       "    }\n",
       "\n",
       "    .dataframe tbody tr th {\n",
       "        vertical-align: top;\n",
       "    }\n",
       "\n",
       "    .dataframe thead th {\n",
       "        text-align: right;\n",
       "    }\n",
       "</style>\n",
       "<table border=\"1\" class=\"dataframe\">\n",
       "  <thead>\n",
       "    <tr style=\"text-align: right;\">\n",
       "      <th></th>\n",
       "      <th>Sản phẩm</th>\n",
       "      <th>Giá</th>\n",
       "      <th>Lượng bán</th>\n",
       "      <th>Ngày bán</th>\n",
       "    </tr>\n",
       "  </thead>\n",
       "  <tbody>\n",
       "    <tr>\n",
       "      <th>K1</th>\n",
       "      <td>Thịt</td>\n",
       "      <td>150</td>\n",
       "      <td>40</td>\n",
       "      <td>Thứ 3</td>\n",
       "    </tr>\n",
       "    <tr>\n",
       "      <th>K2</th>\n",
       "      <td>Cua</td>\n",
       "      <td>300</td>\n",
       "      <td>21</td>\n",
       "      <td>Thứ 2</td>\n",
       "    </tr>\n",
       "    <tr>\n",
       "      <th>K3</th>\n",
       "      <td>Cá</td>\n",
       "      <td>100</td>\n",
       "      <td>22</td>\n",
       "      <td>Thứ 2</td>\n",
       "    </tr>\n",
       "    <tr>\n",
       "      <th>K4</th>\n",
       "      <td>Thịt</td>\n",
       "      <td>150</td>\n",
       "      <td>30</td>\n",
       "      <td>Thứ 2</td>\n",
       "    </tr>\n",
       "  </tbody>\n",
       "</table>\n",
       "</div>"
      ],
      "text/plain": [
       "   Sản phẩm  Giá  Lượng bán Ngày bán\n",
       "K1     Thịt  150         40    Thứ 3\n",
       "K2      Cua  300         21    Thứ 2\n",
       "K3       Cá  100         22    Thứ 2\n",
       "K4     Thịt  150         30    Thứ 2"
      ]
     },
     "execution_count": 196,
     "metadata": {},
     "output_type": "execute_result"
    }
   ],
   "source": [
    "#Cập nhật giá trị cho hàng\n",
    "\n",
    "KH.loc['K1']=[\"Thịt\",150,40, \"Thứ 3\"]\n",
    "KH"
   ]
  },
  {
   "cell_type": "code",
   "execution_count": 197,
   "id": "fdfc0dfe",
   "metadata": {},
   "outputs": [
    {
     "data": {
      "text/html": [
       "<div>\n",
       "<style scoped>\n",
       "    .dataframe tbody tr th:only-of-type {\n",
       "        vertical-align: middle;\n",
       "    }\n",
       "\n",
       "    .dataframe tbody tr th {\n",
       "        vertical-align: top;\n",
       "    }\n",
       "\n",
       "    .dataframe thead th {\n",
       "        text-align: right;\n",
       "    }\n",
       "</style>\n",
       "<table border=\"1\" class=\"dataframe\">\n",
       "  <thead>\n",
       "    <tr style=\"text-align: right;\">\n",
       "      <th></th>\n",
       "      <th>Sản phẩm</th>\n",
       "      <th>Giá</th>\n",
       "      <th>Lượng bán</th>\n",
       "      <th>Ngày bán</th>\n",
       "    </tr>\n",
       "  </thead>\n",
       "  <tbody>\n",
       "    <tr>\n",
       "      <th>K1</th>\n",
       "      <td>Thịt</td>\n",
       "      <td>150</td>\n",
       "      <td>40</td>\n",
       "      <td>Thứ 3</td>\n",
       "    </tr>\n",
       "    <tr>\n",
       "      <th>K2</th>\n",
       "      <td>Cua</td>\n",
       "      <td>300</td>\n",
       "      <td>21</td>\n",
       "      <td>Thứ 2</td>\n",
       "    </tr>\n",
       "    <tr>\n",
       "      <th>K3</th>\n",
       "      <td>Cá</td>\n",
       "      <td>100</td>\n",
       "      <td>22</td>\n",
       "      <td>Thứ 2</td>\n",
       "    </tr>\n",
       "    <tr>\n",
       "      <th>K4</th>\n",
       "      <td>Thịt</td>\n",
       "      <td>150</td>\n",
       "      <td>30</td>\n",
       "      <td>Thứ 2</td>\n",
       "    </tr>\n",
       "    <tr>\n",
       "      <th>K12</th>\n",
       "      <td>Gà</td>\n",
       "      <td>250</td>\n",
       "      <td>3</td>\n",
       "      <td>Thứ 3</td>\n",
       "    </tr>\n",
       "  </tbody>\n",
       "</table>\n",
       "</div>"
      ],
      "text/plain": [
       "    Sản phẩm  Giá  Lượng bán Ngày bán\n",
       "K1      Thịt  150         40    Thứ 3\n",
       "K2       Cua  300         21    Thứ 2\n",
       "K3        Cá  100         22    Thứ 2\n",
       "K4      Thịt  150         30    Thứ 2\n",
       "K12       Gà  250          3    Thứ 3"
      ]
     },
     "execution_count": 197,
     "metadata": {},
     "output_type": "execute_result"
    }
   ],
   "source": [
    "# Thêm hàng mới\n",
    "KH.loc['K12']=[\"Gà\",250,3, \"Thứ 3\"]\n",
    "KH"
   ]
  },
  {
   "cell_type": "code",
   "execution_count": 198,
   "id": "a3100175",
   "metadata": {},
   "outputs": [
    {
     "data": {
      "text/html": [
       "<div>\n",
       "<style scoped>\n",
       "    .dataframe tbody tr th:only-of-type {\n",
       "        vertical-align: middle;\n",
       "    }\n",
       "\n",
       "    .dataframe tbody tr th {\n",
       "        vertical-align: top;\n",
       "    }\n",
       "\n",
       "    .dataframe thead th {\n",
       "        text-align: right;\n",
       "    }\n",
       "</style>\n",
       "<table border=\"1\" class=\"dataframe\">\n",
       "  <thead>\n",
       "    <tr style=\"text-align: right;\">\n",
       "      <th></th>\n",
       "      <th>Sản phẩm</th>\n",
       "      <th>Giá</th>\n",
       "      <th>Lượng bán</th>\n",
       "      <th>Ngày bán</th>\n",
       "    </tr>\n",
       "  </thead>\n",
       "  <tbody>\n",
       "    <tr>\n",
       "      <th>K1</th>\n",
       "      <td>Thịt</td>\n",
       "      <td>150</td>\n",
       "      <td>40</td>\n",
       "      <td>Thứ 3</td>\n",
       "    </tr>\n",
       "    <tr>\n",
       "      <th>K2</th>\n",
       "      <td>Cua</td>\n",
       "      <td>300</td>\n",
       "      <td>21</td>\n",
       "      <td>Thứ 2</td>\n",
       "    </tr>\n",
       "    <tr>\n",
       "      <th>K3</th>\n",
       "      <td>Cá</td>\n",
       "      <td>100</td>\n",
       "      <td>22</td>\n",
       "      <td>Thứ 2</td>\n",
       "    </tr>\n",
       "    <tr>\n",
       "      <th>K4</th>\n",
       "      <td>Thịt</td>\n",
       "      <td>150</td>\n",
       "      <td>30</td>\n",
       "      <td>Thứ 2</td>\n",
       "    </tr>\n",
       "  </tbody>\n",
       "</table>\n",
       "</div>"
      ],
      "text/plain": [
       "   Sản phẩm  Giá  Lượng bán Ngày bán\n",
       "K1     Thịt  150         40    Thứ 3\n",
       "K2      Cua  300         21    Thứ 2\n",
       "K3       Cá  100         22    Thứ 2\n",
       "K4     Thịt  150         30    Thứ 2"
      ]
     },
     "execution_count": 198,
     "metadata": {},
     "output_type": "execute_result"
    }
   ],
   "source": [
    "# Xoá hàng\n",
    "KH2 =KH.copy()\n",
    "KH3 =KH2.drop(\"K12\")\n",
    "KH3"
   ]
  },
  {
   "cell_type": "markdown",
   "id": "2240e5ee",
   "metadata": {},
   "source": [
    "### Truy xuất vào ô (cell) trong DataFrame"
   ]
  },
  {
   "cell_type": "code",
   "execution_count": 199,
   "id": "97aa4ca0",
   "metadata": {},
   "outputs": [
    {
     "data": {
      "text/html": [
       "<div>\n",
       "<style scoped>\n",
       "    .dataframe tbody tr th:only-of-type {\n",
       "        vertical-align: middle;\n",
       "    }\n",
       "\n",
       "    .dataframe tbody tr th {\n",
       "        vertical-align: top;\n",
       "    }\n",
       "\n",
       "    .dataframe thead th {\n",
       "        text-align: right;\n",
       "    }\n",
       "</style>\n",
       "<table border=\"1\" class=\"dataframe\">\n",
       "  <thead>\n",
       "    <tr style=\"text-align: right;\">\n",
       "      <th></th>\n",
       "      <th>Sản phẩm</th>\n",
       "      <th>Giá</th>\n",
       "      <th>Lượng bán</th>\n",
       "      <th>Ngày bán</th>\n",
       "    </tr>\n",
       "  </thead>\n",
       "  <tbody>\n",
       "    <tr>\n",
       "      <th>K1</th>\n",
       "      <td>Thịt</td>\n",
       "      <td>150</td>\n",
       "      <td>40</td>\n",
       "      <td>Thứ 3</td>\n",
       "    </tr>\n",
       "    <tr>\n",
       "      <th>K2</th>\n",
       "      <td>Cua</td>\n",
       "      <td>300</td>\n",
       "      <td>21</td>\n",
       "      <td>Thứ 2</td>\n",
       "    </tr>\n",
       "    <tr>\n",
       "      <th>K3</th>\n",
       "      <td>Cá</td>\n",
       "      <td>100</td>\n",
       "      <td>22</td>\n",
       "      <td>Thứ 2</td>\n",
       "    </tr>\n",
       "    <tr>\n",
       "      <th>K4</th>\n",
       "      <td>Thịt</td>\n",
       "      <td>150</td>\n",
       "      <td>30</td>\n",
       "      <td>Thứ 2</td>\n",
       "    </tr>\n",
       "    <tr>\n",
       "      <th>K12</th>\n",
       "      <td>Gà</td>\n",
       "      <td>250</td>\n",
       "      <td>3</td>\n",
       "      <td>Thứ 3</td>\n",
       "    </tr>\n",
       "  </tbody>\n",
       "</table>\n",
       "</div>"
      ],
      "text/plain": [
       "    Sản phẩm  Giá  Lượng bán Ngày bán\n",
       "K1      Thịt  150         40    Thứ 3\n",
       "K2       Cua  300         21    Thứ 2\n",
       "K3        Cá  100         22    Thứ 2\n",
       "K4      Thịt  150         30    Thứ 2\n",
       "K12       Gà  250          3    Thứ 3"
      ]
     },
     "execution_count": 199,
     "metadata": {},
     "output_type": "execute_result"
    }
   ],
   "source": [
    "KH"
   ]
  },
  {
   "cell_type": "code",
   "execution_count": 200,
   "id": "58593d8a",
   "metadata": {},
   "outputs": [
    {
     "data": {
      "text/plain": [
       "np.int64(300)"
      ]
     },
     "execution_count": 200,
     "metadata": {},
     "output_type": "execute_result"
    }
   ],
   "source": [
    "KH.loc[\"K2\",\"Giá\"]"
   ]
  },
  {
   "cell_type": "code",
   "execution_count": 201,
   "id": "da110bcc",
   "metadata": {},
   "outputs": [
    {
     "data": {
      "text/plain": [
       "np.int64(21)"
      ]
     },
     "execution_count": 201,
     "metadata": {},
     "output_type": "execute_result"
    }
   ],
   "source": [
    "KH.iloc[1,2]"
   ]
  },
  {
   "cell_type": "markdown",
   "id": "c96558e5",
   "metadata": {},
   "source": [
    "### Sắp xếp lại thứ tự của hàng, cột: reindex"
   ]
  },
  {
   "cell_type": "code",
   "execution_count": 202,
   "id": "d3c52828",
   "metadata": {},
   "outputs": [
    {
     "name": "stdout",
     "output_type": "stream",
     "text": [
      "    Sản phẩm  Giá  Lượng bán Ngày bán\n",
      "K1      Thịt  150         40    Thứ 3\n",
      "K2       Cua  300         21    Thứ 2\n",
      "K3        Cá  100         22    Thứ 2\n",
      "K4      Thịt  150         30    Thứ 2\n",
      "K12       Gà  250          3    Thứ 3\n",
      "   Sản phẩm    Giá  Lượng bán Ngày bán\n",
      "K2      Cua  300.0       21.0    Thứ 2\n",
      "K3       Cá  100.0       22.0    Thứ 2\n",
      "K1     Thịt  150.0       40.0    Thứ 3\n",
      "K5      NaN    NaN        NaN      NaN\n"
     ]
    }
   ],
   "source": [
    "# Thay đổi thứ tự của hàng\n",
    "\n",
    "print(KH)\n",
    "\n",
    "KH1 = KH.reindex(['K2','K3','K1','K5'])\n",
    "print(KH1)\n"
   ]
  },
  {
   "cell_type": "code",
   "execution_count": 203,
   "id": "44c0ed13",
   "metadata": {},
   "outputs": [
    {
     "name": "stdout",
     "output_type": "stream",
     "text": [
      "    Sản phẩm  Giá  Lượng bán Ngày bán\n",
      "K1      Thịt  150         40    Thứ 3\n",
      "K2       Cua  300         21    Thứ 2\n",
      "K3        Cá  100         22    Thứ 2\n",
      "K4      Thịt  150         30    Thứ 2\n",
      "K12       Gà  250          3    Thứ 3\n",
      "    Sản phẩm Ngày bán  Lượng bán\n",
      "K1      Thịt    Thứ 3         40\n",
      "K2       Cua    Thứ 2         21\n",
      "K3        Cá    Thứ 2         22\n",
      "K4      Thịt    Thứ 2         30\n",
      "K12       Gà    Thứ 3          3\n"
     ]
    }
   ],
   "source": [
    "# Thay đổi thứ tự của cột\n",
    "\n",
    "print(KH)\n",
    "\n",
    "KH1 = KH.reindex(columns=['Sản phẩm', 'Ngày bán', 'Lượng bán'])\n",
    "print(KH1)\n"
   ]
  }
 ],
 "metadata": {
  "kernelspec": {
   "display_name": "Python 3",
   "language": "python",
   "name": "python3"
  },
  "language_info": {
   "codemirror_mode": {
    "name": "ipython",
    "version": 3
   },
   "file_extension": ".py",
   "mimetype": "text/x-python",
   "name": "python",
   "nbconvert_exporter": "python",
   "pygments_lexer": "ipython3",
   "version": "3.11.4"
  }
 },
 "nbformat": 4,
 "nbformat_minor": 5
}
